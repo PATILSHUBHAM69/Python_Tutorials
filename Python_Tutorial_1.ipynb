{
 "cells": [
  {
   "cell_type": "markdown",
   "id": "0bfae301",
   "metadata": {},
   "source": [
    "# Write a pythoin code which accept the radius of the circle from the user and compute the area."
   ]
  },
  {
   "cell_type": "code",
   "execution_count": 2,
   "id": "f95c3dd5",
   "metadata": {},
   "outputs": [],
   "source": [
    "import math"
   ]
  },
  {
   "cell_type": "code",
   "execution_count": 3,
   "id": "43682c38",
   "metadata": {},
   "outputs": [],
   "source": [
    "pi = math.pi"
   ]
  },
  {
   "cell_type": "code",
   "execution_count": 4,
   "id": "c27df6e3",
   "metadata": {},
   "outputs": [
    {
     "name": "stdout",
     "output_type": "stream",
     "text": [
      "Enter the radius of the circle = 5\n"
     ]
    }
   ],
   "source": [
    "radius_circle = float(input(\"Enter the radius of the circle = \"))"
   ]
  },
  {
   "cell_type": "code",
   "execution_count": 5,
   "id": "c44bd26b",
   "metadata": {},
   "outputs": [],
   "source": [
    "area_circle = round((pi*radius_circle**2),2)"
   ]
  },
  {
   "cell_type": "code",
   "execution_count": 6,
   "id": "6dedf6bc",
   "metadata": {},
   "outputs": [
    {
     "name": "stdout",
     "output_type": "stream",
     "text": [
      "Area of Circle for given radius =  78.54\n"
     ]
    }
   ],
   "source": [
    "print (\"Area of Circle for given radius = \",area_circle)"
   ]
  },
  {
   "cell_type": "markdown",
   "id": "8379e5bf",
   "metadata": {},
   "source": [
    "# Temperature of a city in Fahrenheit degree is input through the keyboard. Write a program to convert this temperature into Centigrade degrees."
   ]
  },
  {
   "cell_type": "code",
   "execution_count": 7,
   "id": "40ed4ccb",
   "metadata": {},
   "outputs": [
    {
     "name": "stdout",
     "output_type": "stream",
     "text": [
      " Enter Temperature in Fehrenheit = 345\n"
     ]
    }
   ],
   "source": [
    "temp_fah = float(input(\" Enter Temperature in Fehrenheit = \")) "
   ]
  },
  {
   "cell_type": "code",
   "execution_count": 8,
   "id": "419f35bf",
   "metadata": {},
   "outputs": [],
   "source": [
    "temp_cel = round (((temp_fah - 32)*(5/9)),2)\n"
   ]
  },
  {
   "cell_type": "code",
   "execution_count": 9,
   "id": "69039f73",
   "metadata": {},
   "outputs": [
    {
     "name": "stdout",
     "output_type": "stream",
     "text": [
      "Temperature in Celcius =  173.89\n"
     ]
    }
   ],
   "source": [
    "print (\"Temperature in Celcius = \", temp_cel)"
   ]
  },
  {
   "cell_type": "markdown",
   "id": "e5e3036b",
   "metadata": {},
   "source": [
    "# Write a python program to make a simple calculator that can add, subtract, multiply and divide."
   ]
  },
  {
   "cell_type": "code",
   "execution_count": 10,
   "id": "b55ecddd",
   "metadata": {},
   "outputs": [
    {
     "name": "stdout",
     "output_type": "stream",
     "text": [
      " Enter the First number : 6\n",
      " Enter the Second number : 5\n"
     ]
    }
   ],
   "source": [
    "fir_num = int(input(\" Enter the First number : \"))\n",
    "sec_num = int(input(\" Enter the Second number : \"))"
   ]
  },
  {
   "cell_type": "code",
   "execution_count": 11,
   "id": "0f8a6040",
   "metadata": {},
   "outputs": [
    {
     "name": "stdout",
     "output_type": "stream",
     "text": [
      "Addition of two enter number is =  11\n",
      "Subtracation of two enter number is =  1\n",
      "Multiplication of two enter number is =  30\n",
      "Division of two enter number is =  1.2\n"
     ]
    }
   ],
   "source": [
    "print(\"Addition of two enter number is = \",fir_num + sec_num)\n",
    "print(\"Subtracation of two enter number is = \",fir_num - sec_num)\n",
    "print(\"Multiplication of two enter number is = \",fir_num * sec_num)\n",
    "print(\"Division of two enter number is = \",round((fir_num / sec_num),2))"
   ]
  },
  {
   "cell_type": "markdown",
   "id": "9c189e52",
   "metadata": {},
   "source": [
    "# Write a python code to calculate square root"
   ]
  },
  {
   "cell_type": "code",
   "execution_count": 12,
   "id": "a0bdf930",
   "metadata": {},
   "outputs": [
    {
     "name": "stdout",
     "output_type": "stream",
     "text": [
      " Enter the number = 36\n"
     ]
    }
   ],
   "source": [
    "import math\n",
    "num = float(input(\" Enter the number = \"))"
   ]
  },
  {
   "cell_type": "code",
   "execution_count": 13,
   "id": "89554eac",
   "metadata": {},
   "outputs": [
    {
     "name": "stdout",
     "output_type": "stream",
     "text": [
      "6.0\n"
     ]
    }
   ],
   "source": [
    "sq_root = math.sqrt(num)\n",
    "print(round(sq_root,2))"
   ]
  },
  {
   "cell_type": "markdown",
   "id": "458ccb48",
   "metadata": {},
   "source": [
    "# Write a python code to solve the quadratic equation ax**2 + bx + c = 0, coefficient provide by user."
   ]
  },
  {
   "cell_type": "code",
   "execution_count": 14,
   "id": "da44798b",
   "metadata": {},
   "outputs": [
    {
     "name": "stdout",
     "output_type": "stream",
     "text": [
      "Enter the value of a (a should be greater than 0) : 3\n",
      " Enter the value of b : 7\n",
      " Enter the value of c : 4\n"
     ]
    }
   ],
   "source": [
    "a = int(input(\"Enter the value of a (a should be greater than 0) : \"))\n",
    "b= int(input(\" Enter the value of b : \"))\n",
    "c = int(input(\" Enter the value of c : \"))"
   ]
  },
  {
   "cell_type": "code",
   "execution_count": 15,
   "id": "4c555d36",
   "metadata": {},
   "outputs": [],
   "source": [
    "import cmath\n",
    "eq = round (((b**2)-(4*a*c)),2) "
   ]
  },
  {
   "cell_type": "code",
   "execution_count": 16,
   "id": "89c2b3b5",
   "metadata": {},
   "outputs": [],
   "source": [
    "solution_1 = (-b + cmath.sqrt(eq))/(2*a)\n",
    "solution_2 = (-b - cmath.sqrt(eq))/(2*a)"
   ]
  },
  {
   "cell_type": "code",
   "execution_count": 17,
   "id": "523b46d3",
   "metadata": {},
   "outputs": [
    {
     "name": "stdout",
     "output_type": "stream",
     "text": [
      " Two distinct real root :  (-1+0j) (-1.3333333333333333+0j)\n"
     ]
    }
   ],
   "source": [
    "if eq > 0 :\n",
    "    print (\" Two distinct real root : \",solution_1, solution_2)\n",
    "elif eq == 0:\n",
    "    print (\" Two equal real root : \",solution_1, solution_2)\n",
    "elif eq < 0:\n",
    "    print (\" Two complex real root : \",solution_1, solution_2)"
   ]
  },
  {
   "cell_type": "markdown",
   "id": "2154f648",
   "metadata": {},
   "source": [
    "# Write the python code to find Area of Triangle"
   ]
  },
  {
   "cell_type": "code",
   "execution_count": 18,
   "id": "d3c619d9",
   "metadata": {},
   "outputs": [
    {
     "name": "stdout",
     "output_type": "stream",
     "text": [
      " Enter first sides of triangle : 5\n",
      " Enter second sides of triangle : 6\n",
      " Enter third sides of triangle : 7\n"
     ]
    }
   ],
   "source": [
    "side_1 = float(input(\" Enter first sides of triangle : \"))\n",
    "side_2 = float(input(\" Enter second sides of triangle : \"))\n",
    "side_3 = float(input(\" Enter third sides of triangle : \"))"
   ]
  },
  {
   "cell_type": "code",
   "execution_count": 19,
   "id": "620fdd07",
   "metadata": {},
   "outputs": [
    {
     "name": "stdout",
     "output_type": "stream",
     "text": [
      "Area of Triangle 14.7\n"
     ]
    }
   ],
   "source": [
    "eq = ((side_1+side_2+side_3)/2)\n",
    "area_tri = math.sqrt((eq*(eq-side_1)*(eq-side_2)*(eq-side_3)))\n",
    "print(\"Area of Triangle\",round(area_tri,2))"
   ]
  },
  {
   "cell_type": "markdown",
   "id": "46fa9228",
   "metadata": {},
   "source": [
    "# If a five digit number is input through the keyboard, write the program to calculate the sum of its digit without using any loop. "
   ]
  },
  {
   "cell_type": "code",
   "execution_count": 20,
   "id": "31e82b39",
   "metadata": {},
   "outputs": [
    {
     "name": "stdout",
     "output_type": "stream",
     "text": [
      " Enter the five digit number : 12345\n"
     ]
    }
   ],
   "source": [
    "num = int(input(\" Enter the five digit number : \"))"
   ]
  },
  {
   "cell_type": "code",
   "execution_count": 21,
   "id": "0ea53bed",
   "metadata": {},
   "outputs": [
    {
     "name": "stdout",
     "output_type": "stream",
     "text": [
      " Sum of numbers of enter five digit number :   15\n"
     ]
    }
   ],
   "source": [
    "sum = 0\n",
    "rem = num % 10\n",
    "sum = sum + rem\n",
    "num = (num // 10)\n",
    "rem = num % 10\n",
    "sum = sum + rem\n",
    "num = (num // 10)\n",
    "rem = num % 10\n",
    "sum = sum + rem\n",
    "num = (num // 10)\n",
    "rem = num % 10\n",
    "sum = sum + rem\n",
    "num = (num // 10)\n",
    "rem = num % 10\n",
    "sum = sum + rem\n",
    "num = (num // 10)\n",
    "\n",
    "print (\" Sum of numbers of enter five digit number :  \", sum )"
   ]
  },
  {
   "cell_type": "code",
   "execution_count": null,
   "id": "a4cd2019",
   "metadata": {},
   "outputs": [],
   "source": []
  }
 ],
 "metadata": {
  "kernelspec": {
   "display_name": "Python 3 (ipykernel)",
   "language": "python",
   "name": "python3"
  },
  "language_info": {
   "codemirror_mode": {
    "name": "ipython",
    "version": 3
   },
   "file_extension": ".py",
   "mimetype": "text/x-python",
   "name": "python",
   "nbconvert_exporter": "python",
   "pygments_lexer": "ipython3",
   "version": "3.9.12"
  }
 },
 "nbformat": 4,
 "nbformat_minor": 5
}
