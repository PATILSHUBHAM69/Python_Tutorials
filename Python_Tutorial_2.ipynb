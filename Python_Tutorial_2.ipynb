{
 "cells": [
  {
   "cell_type": "markdown",
   "id": "4374b725",
   "metadata": {},
   "source": [
    "#  Create a string containing both a single quote and double quote"
   ]
  },
  {
   "cell_type": "code",
   "execution_count": 1,
   "id": "571215a2",
   "metadata": {},
   "outputs": [
    {
     "name": "stdout",
     "output_type": "stream",
     "text": [
      " Hi 'bob' and \"marry\" \n"
     ]
    }
   ],
   "source": [
    "string = print(\" Hi 'bob' and \\\"marry\\\" \")"
   ]
  },
  {
   "cell_type": "markdown",
   "id": "ca875e0b",
   "metadata": {},
   "source": [
    "# Create a triple quote string that contain single and double quotes"
   ]
  },
  {
   "cell_type": "code",
   "execution_count": 2,
   "id": "8c7b1e17",
   "metadata": {},
   "outputs": [
    {
     "name": "stdout",
     "output_type": "stream",
     "text": [
      " Hi 'bob', \"sam\", and '''marry''', How are you \n"
     ]
    }
   ],
   "source": [
    "string = print (''' Hi 'bob', \"sam\", and \\'''marry\\''', How are you ''')"
   ]
  },
  {
   "cell_type": "markdown",
   "id": "dd92786f",
   "metadata": {},
   "source": [
    "# Create a character then obtain its integer representation"
   ]
  },
  {
   "cell_type": "code",
   "execution_count": 3,
   "id": "982c619d",
   "metadata": {},
   "outputs": [
    {
     "data": {
      "text/plain": [
       "'2'"
      ]
     },
     "execution_count": 3,
     "metadata": {},
     "output_type": "execute_result"
    }
   ],
   "source": [
    "character = chr(50)\n",
    "character"
   ]
  },
  {
   "cell_type": "code",
   "execution_count": 4,
   "id": "df720d6a",
   "metadata": {},
   "outputs": [
    {
     "name": "stdout",
     "output_type": "stream",
     "text": [
      "2\n"
     ]
    }
   ],
   "source": [
    "print(int(character))"
   ]
  },
  {
   "cell_type": "markdown",
   "id": "8d873849",
   "metadata": {},
   "source": [
    "# Create single string containing 5 copies of the string 'abc' "
   ]
  },
  {
   "cell_type": "code",
   "execution_count": 5,
   "id": "92febff6",
   "metadata": {},
   "outputs": [
    {
     "data": {
      "text/plain": [
       "'<abcabcabcabcabc>'"
      ]
     },
     "execution_count": 5,
     "metadata": {},
     "output_type": "execute_result"
    }
   ],
   "source": [
    "string = 'abc'\n",
    "five_copies = ('<' + string * 5 + '>')\n",
    "five_copies"
   ]
  },
  {
   "cell_type": "markdown",
   "id": "a553a181",
   "metadata": {},
   "source": [
    "# Use the multiplication operator to create a line of 50 dashes"
   ]
  },
  {
   "cell_type": "code",
   "execution_count": 6,
   "id": "35c3eb74",
   "metadata": {},
   "outputs": [
    {
     "name": "stdout",
     "output_type": "stream",
     "text": [
      "--------------------------------------------------\n"
     ]
    }
   ],
   "source": [
    "print ('-' * 50)"
   ]
  },
  {
   "cell_type": "markdown",
   "id": "442c85f9",
   "metadata": {},
   "source": [
    "# Convert given the string to all upper case"
   ]
  },
  {
   "cell_type": "code",
   "execution_count": 7,
   "id": "5dcb2b3f",
   "metadata": {},
   "outputs": [
    {
     "data": {
      "text/plain": [
       "' i love python'"
      ]
     },
     "execution_count": 7,
     "metadata": {},
     "output_type": "execute_result"
    }
   ],
   "source": [
    "string = \" i love python\"\n",
    "string"
   ]
  },
  {
   "cell_type": "code",
   "execution_count": 8,
   "id": "3014b9e2",
   "metadata": {},
   "outputs": [
    {
     "data": {
      "text/plain": [
       "' I LOVE PYTHON'"
      ]
     },
     "execution_count": 8,
     "metadata": {},
     "output_type": "execute_result"
    }
   ],
   "source": [
    "all_upper_case = string.upper()\n",
    "all_upper_case"
   ]
  },
  {
   "cell_type": "markdown",
   "id": "6f3c5a7e",
   "metadata": {},
   "source": [
    "# Write the python code to get a string from a given string where all occurences of its first char have been changed to \"$\", except the first char itself"
   ]
  },
  {
   "cell_type": "code",
   "execution_count": 9,
   "id": "04b76f4b",
   "metadata": {},
   "outputs": [
    {
     "name": "stdout",
     "output_type": "stream",
     "text": [
      " Enter the string : restart\n"
     ]
    },
    {
     "data": {
      "text/plain": [
       "'restart'"
      ]
     },
     "execution_count": 9,
     "metadata": {},
     "output_type": "execute_result"
    }
   ],
   "source": [
    "string = str(input(\" Enter the string : \"))\n",
    "string"
   ]
  },
  {
   "cell_type": "code",
   "execution_count": 10,
   "id": "99d1c8d9",
   "metadata": {},
   "outputs": [
    {
     "name": "stdout",
     "output_type": "stream",
     "text": [
      "Expected Output :  resta$t\n"
     ]
    }
   ],
   "source": [
    "first_chr = string [0:1]\n",
    "remove_first_chr = string[1:]\n",
    "\n",
    "expected_output = first_chr + remove_first_chr.replace(first_chr,'$')\n",
    "print (\"Expected Output : \",expected_output)"
   ]
  },
  {
   "cell_type": "markdown",
   "id": "95f6cd9f",
   "metadata": {},
   "source": [
    "# Write python code to get string made of the first 2 and last 2 char from a given string"
   ]
  },
  {
   "cell_type": "code",
   "execution_count": 11,
   "id": "0f7eccc4",
   "metadata": {},
   "outputs": [
    {
     "name": "stdout",
     "output_type": "stream",
     "text": [
      " Enter the string :JUPYTER\n"
     ]
    }
   ],
   "source": [
    "string = str(input(\" Enter the string :\"))"
   ]
  },
  {
   "cell_type": "code",
   "execution_count": 12,
   "id": "9b2399f7",
   "metadata": {},
   "outputs": [
    {
     "name": "stdout",
     "output_type": "stream",
     "text": [
      " Given string with first 2 and last 2 chr is :  JUER\n"
     ]
    }
   ],
   "source": [
    "expected_output = string[0:2] + string[-2:]\n",
    "print(\" Given string with first 2 and last 2 chr is : \", expected_output)"
   ]
  },
  {
   "cell_type": "markdown",
   "id": "fd2165d8",
   "metadata": {},
   "source": [
    "# Write python code to get single string from two given stings, seperated by a space and swap the first two chr of each string  "
   ]
  },
  {
   "cell_type": "code",
   "execution_count": 13,
   "id": "e7a25976",
   "metadata": {},
   "outputs": [
    {
     "name": "stdout",
     "output_type": "stream",
     "text": [
      "Enter the first string  : PYTHON\n",
      "Enter the Second string  : CODE\n"
     ]
    }
   ],
   "source": [
    "string_1 = str(input(\"Enter the first string  : \"))\n",
    "string_2 = str(input(\"Enter the Second string  : \"))"
   ]
  },
  {
   "cell_type": "code",
   "execution_count": 14,
   "id": "bed3805d",
   "metadata": {},
   "outputs": [
    {
     "data": {
      "text/plain": [
       "('COTHON', 'PYDE')"
      ]
     },
     "execution_count": 14,
     "metadata": {},
     "output_type": "execute_result"
    }
   ],
   "source": [
    "swap_1 = string_2[0:2] + string_1[2:] \n",
    "swap_2 = string_1[0:2] + string_2[2:]\n",
    "swap_1, swap_2"
   ]
  },
  {
   "cell_type": "code",
   "execution_count": 15,
   "id": "e156d17a",
   "metadata": {},
   "outputs": [
    {
     "data": {
      "text/plain": [
       "'COTHON PYDE'"
      ]
     },
     "execution_count": 15,
     "metadata": {},
     "output_type": "execute_result"
    }
   ],
   "source": [
    "expected_output = (swap_1 + \" \" + swap_2)\n",
    "expected_output"
   ]
  }
 ],
 "metadata": {
  "kernelspec": {
   "display_name": "Python 3 (ipykernel)",
   "language": "python",
   "name": "python3"
  },
  "language_info": {
   "codemirror_mode": {
    "name": "ipython",
    "version": 3
   },
   "file_extension": ".py",
   "mimetype": "text/x-python",
   "name": "python",
   "nbconvert_exporter": "python",
   "pygments_lexer": "ipython3",
   "version": "3.9.12"
  }
 },
 "nbformat": 4,
 "nbformat_minor": 5
}
