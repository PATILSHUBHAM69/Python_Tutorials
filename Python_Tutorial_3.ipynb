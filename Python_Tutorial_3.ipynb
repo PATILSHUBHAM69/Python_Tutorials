{
 "cells": [
  {
   "cell_type": "markdown",
   "id": "14771419",
   "metadata": {},
   "source": [
    "# Write a python code to sum all the items in list"
   ]
  },
  {
   "cell_type": "code",
   "execution_count": 1,
   "id": "dc5e4a84",
   "metadata": {},
   "outputs": [
    {
     "data": {
      "text/plain": [
       "[1, 2, 3, 4, 5]"
      ]
     },
     "execution_count": 1,
     "metadata": {},
     "output_type": "execute_result"
    }
   ],
   "source": [
    "list_ = [1,2,3,4,5]\n",
    "list_"
   ]
  },
  {
   "cell_type": "code",
   "execution_count": 2,
   "id": "a895a82c",
   "metadata": {},
   "outputs": [
    {
     "name": "stdout",
     "output_type": "stream",
     "text": [
      " Sum of all items in list :  15\n"
     ]
    }
   ],
   "source": [
    "sum_list_items = sum(list_)\n",
    "print (\" Sum of all items in list : \", sum_list_items)"
   ]
  },
  {
   "cell_type": "markdown",
   "id": "a5245de0",
   "metadata": {},
   "source": [
    "# Write the python code to get largest and smallest number from the list"
   ]
  },
  {
   "cell_type": "code",
   "execution_count": 3,
   "id": "7c896671",
   "metadata": {},
   "outputs": [
    {
     "data": {
      "text/plain": [
       "[25, 35, 12, 35, 54, 28, 21, 35, 98, 76, 35, 87, 52, 37, 29, 45, 18, 90, 87]"
      ]
     },
     "execution_count": 3,
     "metadata": {},
     "output_type": "execute_result"
    }
   ],
   "source": [
    "list_ = [25,35,12,35,54,28,21,35,98,76,35,87,52,37,29,45,18,90,87]\n",
    "list_"
   ]
  },
  {
   "cell_type": "code",
   "execution_count": 4,
   "id": "f4b9eb88",
   "metadata": {},
   "outputs": [
    {
     "name": "stdout",
     "output_type": "stream",
     "text": [
      " Largest number from ginen list :  98\n",
      " Largest number from ginen list :  12\n"
     ]
    }
   ],
   "source": [
    "print(\" Largest number from ginen list : \", max(list_))\n",
    "print(\" Largest number from ginen list : \", min(list_))"
   ]
  },
  {
   "cell_type": "markdown",
   "id": "92b61322",
   "metadata": {},
   "source": [
    "# Write python code to display first and last colour from given list"
   ]
  },
  {
   "cell_type": "code",
   "execution_count": 5,
   "id": "e3f5a644",
   "metadata": {},
   "outputs": [
    {
     "data": {
      "text/plain": [
       "['Red', 'White', 'Blue', 'Green', 'Purple', 'Orange']"
      ]
     },
     "execution_count": 5,
     "metadata": {},
     "output_type": "execute_result"
    }
   ],
   "source": [
    "given_list = ['Red','White','Blue','Green','Purple','Orange']\n",
    "given_list"
   ]
  },
  {
   "cell_type": "code",
   "execution_count": 6,
   "id": "5d4da9a2",
   "metadata": {},
   "outputs": [
    {
     "name": "stdout",
     "output_type": "stream",
     "text": [
      " List with first and last items :  ['Red', 'Orange']\n"
     ]
    }
   ],
   "source": [
    "del given_list[1:-1]\n",
    "print(\" List with first and last items : \", given_list)"
   ]
  },
  {
   "cell_type": "markdown",
   "id": "c124d9a8",
   "metadata": {},
   "source": [
    "# Write python code to add 'ing' at end of given string ( length of string should be at least 3) and if given string is already ends with 'ing' then add 'ly' instead"
   ]
  },
  {
   "cell_type": "code",
   "execution_count": 7,
   "id": "259c6025",
   "metadata": {},
   "outputs": [
    {
     "name": "stdout",
     "output_type": "stream",
     "text": [
      " Enter the string : code\n"
     ]
    }
   ],
   "source": [
    "string = str(input(\" Enter the string : \"))"
   ]
  },
  {
   "cell_type": "code",
   "execution_count": 8,
   "id": "6d3f712d",
   "metadata": {},
   "outputs": [
    {
     "name": "stdout",
     "output_type": "stream",
     "text": [
      " Expected outout :  codeing\n"
     ]
    }
   ],
   "source": [
    "if len(string) >= 3:\n",
    "    if string[-3:]=='ing':\n",
    "        new_string = string + 'ly'\n",
    "        print(\" Expected outout : \", new_string)\n",
    "    else:\n",
    "        new_string = string + 'ing'\n",
    "        print(\" Expected outout : \", new_string)\n",
    "else:\n",
    "    print(\" Required length of string at least 3\")"
   ]
  },
  {
   "cell_type": "markdown",
   "id": "aa0d964c",
   "metadata": {},
   "source": [
    "# The marks obtained by student in 5 subject are input through keyboard. The student gets division as per the following :\n",
    "1. Percentage above or equal to 60 - First Division,\n",
    "2. Percentage between 50 to 59 - Second Division\n",
    "3. Precentage between 40 to 49 - Third Division\n",
    "4. Precentage less than 40 - Fail"
   ]
  },
  {
   "cell_type": "code",
   "execution_count": 9,
   "id": "d7dc6272",
   "metadata": {},
   "outputs": [
    {
     "name": "stdout",
     "output_type": "stream",
     "text": [
      "Enter First subject mark : 56\n",
      "Enter Second subject mark : 65\n",
      "Enter Third subject mark : 76\n",
      "Enter Fouth subject mark : 45\n",
      "Enter Fifth subject mark : 35\n"
     ]
    }
   ],
   "source": [
    "first_sub_mark = int(input('Enter First subject mark : '))\n",
    "second_sub_mark = int(input('Enter Second subject mark : '))\n",
    "third_sub_mark = int(input('Enter Third subject mark : '))\n",
    "fourth_sub_mark = int(input('Enter Fouth subject mark : '))\n",
    "fifth_sub_mark = int(input('Enter Fifth subject mark : '))"
   ]
  },
  {
   "cell_type": "code",
   "execution_count": 10,
   "id": "deb04a97",
   "metadata": {},
   "outputs": [],
   "source": [
    "Total_mark = first_sub_mark + second_sub_mark + third_sub_mark + fourth_sub_mark + fifth_sub_mark"
   ]
  },
  {
   "cell_type": "code",
   "execution_count": 11,
   "id": "704d3eac",
   "metadata": {},
   "outputs": [],
   "source": [
    "percentage = Total_mark/5"
   ]
  },
  {
   "cell_type": "code",
   "execution_count": 12,
   "id": "47ec7e22",
   "metadata": {},
   "outputs": [
    {
     "name": "stdout",
     "output_type": "stream",
     "text": [
      " Total Mark : 277     Percentage : 55.4      Division : Second\n"
     ]
    }
   ],
   "source": [
    "if percentage >= 60:\n",
    "    Division = 'First'\n",
    "elif percentage >=50:\n",
    "    Division = 'Second'\n",
    "elif percentage >=40:\n",
    "    Division = 'Third'\n",
    "else:\n",
    "    Division = 'Fail'\n",
    "print(\" Total Mark :\",Total_mark,\"   \",\"Percentage :\",percentage,\"    \",\"Division :\", Division)"
   ]
  },
  {
   "cell_type": "markdown",
   "id": "0c9a2f3a",
   "metadata": {},
   "source": [
    "# Write python code to find the largest number among the three input numbers"
   ]
  },
  {
   "cell_type": "code",
   "execution_count": 13,
   "id": "a617dbcd",
   "metadata": {},
   "outputs": [
    {
     "name": "stdout",
     "output_type": "stream",
     "text": [
      " Enter the first number :65\n",
      " Enter the second number :78\n",
      " Enter the third number :46\n"
     ]
    }
   ],
   "source": [
    "first_num = int(input(\" Enter the first number :\"))\n",
    "second_num = int(input(\" Enter the second number :\"))\n",
    "third_num = int(input(\" Enter the third number :\"))"
   ]
  },
  {
   "cell_type": "code",
   "execution_count": 14,
   "id": "f5ba1d27",
   "metadata": {},
   "outputs": [
    {
     "name": "stdout",
     "output_type": "stream",
     "text": [
      "78  is largest number\n"
     ]
    }
   ],
   "source": [
    "if first_num > second_num and first_num > third_num:\n",
    "    print(first_num,\" is largest number\")\n",
    "elif second_num > first_num and second_num > third_num:\n",
    "    print(second_num, \" is largest number\")\n",
    "else:\n",
    "    print(third_num,\" is largest number\")"
   ]
  },
  {
   "cell_type": "markdown",
   "id": "524b9414",
   "metadata": {},
   "source": [
    "# Write python code to check if the input year is a leap year or not"
   ]
  },
  {
   "cell_type": "code",
   "execution_count": 15,
   "id": "af85f58e",
   "metadata": {},
   "outputs": [
    {
     "name": "stdout",
     "output_type": "stream",
     "text": [
      " Enter the year : 2012\n"
     ]
    }
   ],
   "source": [
    "year = int(input(\" Enter the year : \"))"
   ]
  },
  {
   "cell_type": "code",
   "execution_count": 16,
   "id": "cacb06cc",
   "metadata": {},
   "outputs": [
    {
     "name": "stdout",
     "output_type": "stream",
     "text": [
      "2012  is leaf year\n"
     ]
    }
   ],
   "source": [
    "if (year % 400==0):\n",
    "    print(year, \" is leaf year\")\n",
    "elif (year % 4==0 and year % 100!=0):\n",
    "    print(year, \" is leaf year\")\n",
    "else:\n",
    "    print(year,\" is not leaf year\")"
   ]
  },
  {
   "cell_type": "markdown",
   "id": "fe0c0ef0",
   "metadata": {},
   "source": [
    "# Write python code to check if string is palindrome or not"
   ]
  },
  {
   "cell_type": "code",
   "execution_count": 17,
   "id": "040e66e7",
   "metadata": {},
   "outputs": [
    {
     "name": "stdout",
     "output_type": "stream",
     "text": [
      "Enter the string : dad\n"
     ]
    }
   ],
   "source": [
    "string = input(\"Enter the string : \")"
   ]
  },
  {
   "cell_type": "code",
   "execution_count": 18,
   "id": "d16266bc",
   "metadata": {},
   "outputs": [
    {
     "name": "stdout",
     "output_type": "stream",
     "text": [
      "Given Stirng :  dad\n",
      "Reverse String : dad\n",
      "Given string is palindrome\n"
     ]
    }
   ],
   "source": [
    "reverse = string[ : :-1]\n",
    "print(\"Given Stirng : \",string)\n",
    "print(\"Reverse String :\",reverse)\n",
    "if string == reverse:\n",
    "    print(\"Given string is palindrome\")\n",
    "else:\n",
    "    print(\" Given string is not palindrome\")"
   ]
  },
  {
   "cell_type": "markdown",
   "id": "8193eb5e",
   "metadata": {},
   "source": [
    "# Write python code to sort alphabetically the words form a string provided by the user."
   ]
  },
  {
   "cell_type": "code",
   "execution_count": 19,
   "id": "57711136",
   "metadata": {},
   "outputs": [
    {
     "name": "stdout",
     "output_type": "stream",
     "text": [
      "Enter the words : python is amazing\n"
     ]
    }
   ],
   "source": [
    "string = input(\"Enter the words : \")"
   ]
  },
  {
   "cell_type": "code",
   "execution_count": 20,
   "id": "408b2825",
   "metadata": {},
   "outputs": [
    {
     "name": "stdout",
     "output_type": "stream",
     "text": [
      " Expected output :  ['amazing', 'is', 'python']\n"
     ]
    }
   ],
   "source": [
    "sort_string = string.split()\n",
    "sort_string.sort()\n",
    "print(\" Expected output : \",sort_string)"
   ]
  },
  {
   "cell_type": "markdown",
   "id": "2cfd565d",
   "metadata": {},
   "source": [
    "# Given a nested list. Write pyhton code to extend it with adding sub list [\"h\", \"i\",\"j\"] in such a way that it will look like following list :\n",
    "1. Given List = [\"a\",\"b\",[\"c\",[\"d\",\"e\".[\"f\",\"g\"],\"k\"],\"l\"],\"m\",\"n\"]\n",
    "2. sub list = [\"h\",\"i\",\"j\"]\n",
    "3. Expected output = [\"a\",\"b\",[\"c\",[\"d\",\"e\".[\"f\",\"g\",\"h\",\"i\",\"j\"],\"k\"],\"l\"],\"m\",\"n\"]"
   ]
  },
  {
   "cell_type": "code",
   "execution_count": 21,
   "id": "81468ae2",
   "metadata": {},
   "outputs": [],
   "source": [
    "given_list = [\"a\",\"b\",[\"c\",[\"d\",\"e\",[\"f\",\"g\"],\"k\"],\"l\"],\"m\",\"n\"]\n",
    "sub_list = [\"h\",\"i\",\"j\"]"
   ]
  },
  {
   "cell_type": "code",
   "execution_count": 22,
   "id": "d1eb9dbe",
   "metadata": {},
   "outputs": [
    {
     "name": "stdout",
     "output_type": "stream",
     "text": [
      "Expected Output : ['a', 'b', ['c', ['d', 'e', ['f', 'g', 'h', 'i', 'j'], 'k'], 'l'], 'm', 'n']\n"
     ]
    }
   ],
   "source": [
    "for i in sub_list:\n",
    "    given_list[2][1][2].append(i)\n",
    "print(\"Expected Output :\",given_list)"
   ]
  },
  {
   "cell_type": "markdown",
   "id": "660188bf",
   "metadata": {},
   "source": [
    "#  Write a python program for Given a Python list, to find value 20 in the list, and if it is present, replace it with 200. Only update the first occurrence of a value:\n",
    "    list1 = [5, 10, 15, 20, 25, 50, 20]\n",
    "    Expected output:\n",
    "    list1 = [5, 10, 15, 200, 25, 50, 20]"
   ]
  },
  {
   "cell_type": "code",
   "execution_count": 23,
   "id": "f50bdebe",
   "metadata": {},
   "outputs": [],
   "source": [
    "given_list = [5, 10, 15, 20, 25, 50, 20]\n",
    "find_value = 20\n",
    "replace_value = 200"
   ]
  },
  {
   "cell_type": "code",
   "execution_count": 24,
   "id": "7914c8f0",
   "metadata": {},
   "outputs": [
    {
     "name": "stdout",
     "output_type": "stream",
     "text": [
      "Expected Output : [5, 10, 15, 200, 25, 50, 20]\n"
     ]
    }
   ],
   "source": [
    "for i in range(len(given_list)):\n",
    "    if (given_list[i] == find_value):\n",
    "        given_list.remove(find_value)\n",
    "        given_list.insert(i,replace_value)\n",
    "        break\n",
    "print(\"Expected Output :\", given_list)\n",
    "        \n",
    "    "
   ]
  }
 ],
 "metadata": {
  "kernelspec": {
   "display_name": "Python 3 (ipykernel)",
   "language": "python",
   "name": "python3"
  },
  "language_info": {
   "codemirror_mode": {
    "name": "ipython",
    "version": 3
   },
   "file_extension": ".py",
   "mimetype": "text/x-python",
   "name": "python",
   "nbconvert_exporter": "python",
   "pygments_lexer": "ipython3",
   "version": "3.9.12"
  }
 },
 "nbformat": 4,
 "nbformat_minor": 5
}
