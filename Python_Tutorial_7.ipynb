{
 "cells": [
  {
   "cell_type": "markdown",
   "id": "0b02f047",
   "metadata": {},
   "source": [
    "# Write a Python program to read first n lines of a file"
   ]
  },
  {
   "cell_type": "code",
   "execution_count": 2,
   "id": "34c70abe",
   "metadata": {},
   "outputs": [
    {
     "name": "stdout",
     "output_type": "stream",
     "text": [
      "Enter no of line want to read :  3\n",
      "Name = Shubham Patil\n",
      "Age = 26\n",
      "Location = Kolhapur, Maharashtra\n"
     ]
    }
   ],
   "source": [
    "file_path = (r\"D:\\CDAC\\Lab Exercise\\Demo.txt\")\n",
    "file=open(file_path,\"r\")\n",
    "user_input = int(input(\"Enter no of line want to read :  \"))\n",
    "if user_input <= 0:\n",
    "    print(\" Please enter number of line more than 0 \")\n",
    "else:\n",
    "    for i in range(user_input):\n",
    "        line=(file.readline())\n",
    "        print(line,end=\"\")"
   ]
  },
  {
   "cell_type": "markdown",
   "id": "4ce0b34a",
   "metadata": {},
   "source": [
    "# Write a Python program to append text to a file and display the text"
   ]
  },
  {
   "cell_type": "code",
   "execution_count": 4,
   "id": "32e374f6",
   "metadata": {},
   "outputs": [
    {
     "name": "stdout",
     "output_type": "stream",
     "text": [
      "Orinal File : \n",
      "Name = Shubham Patil\n",
      "Age = 26\n",
      "Location = Kolhapur, Maharashtra\n",
      "Occupation = service Engineer, Mahindra.\n",
      "Education = B.E. Mechanical\n",
      "Updated file\n",
      "Name = Shubham Patil\n",
      "Age = 26\n",
      "Location = Kolhapur, Maharashtra\n",
      "Occupation = service Engineer, Mahindra.\n",
      "Education = B.E. Mechanical\n",
      "Contact No = 9834xxxxx\n"
     ]
    }
   ],
   "source": [
    "file_path = (r\"D:\\CDAC\\Lab Exercise\\Demo.txt\")\n",
    "print('Orinal File : ')\n",
    "file=open(file_path,\"r\")\n",
    "print(file.read())\n",
    "file=open(file_path,\"a\")\n",
    "file.write('\\n' 'Contact No = 9834xxxxx')\n",
    "print(\" \")\n",
    "print(\"Updated file\")\n",
    "file=open(file_path,\"r\")\n",
    "print(file.read())\n",
    "file.close()"
   ]
  },
  {
   "cell_type": "markdown",
   "id": "1e8cd715",
   "metadata": {},
   "source": [
    "# Write a Python program to read a file line by line and store it into a list."
   ]
  },
  {
   "cell_type": "code",
   "execution_count": 5,
   "id": "c3ea5964",
   "metadata": {},
   "outputs": [
    {
     "name": "stdout",
     "output_type": "stream",
     "text": [
      "['Name = Shubham Patil\\n', 'Age = 26\\n', 'Location = Kolhapur, Maharashtra\\n', 'Occupation = service Engineer, Mahindra.\\n', 'Education = B.E. Mechanical\\n', 'Contact No = 9834xxxxx']\n"
     ]
    }
   ],
   "source": [
    "file_path = (r\"D:\\CDAC\\Lab Exercise\\Demo.txt\")\n",
    "file=open(file_path,\"r\")\n",
    "List_=file.readlines()\n",
    "print(List_)\n",
    "file.close()"
   ]
  },
  {
   "cell_type": "markdown",
   "id": "b6fb8f1d",
   "metadata": {},
   "source": [
    "# Write a program to print each line of a file in reverse order"
   ]
  },
  {
   "cell_type": "code",
   "execution_count": 9,
   "id": "49c6d2ae",
   "metadata": {},
   "outputs": [
    {
     "name": "stdout",
     "output_type": "stream",
     "text": [
      "Expected Output :\n",
      "Contact No = 9834xxxxx\n",
      "Education = B.E. Mechanical\n",
      "\n",
      "Occupation = service Engineer, Mahindra.\n",
      "\n",
      "Location = Kolhapur, Maharashtra\n",
      "\n",
      "Age = 26\n",
      "\n",
      "Name = Shubham Patil\n",
      "\n"
     ]
    }
   ],
   "source": [
    "file_path = (r\"D:\\CDAC\\Lab Exercise\\Demo.txt\")\n",
    "file=open(file_path,\"r\")\n",
    "data=file.readlines()\n",
    "reverse = (data[::-1])\n",
    "print(\"Expected Output :\")\n",
    "for i in reverse:\n",
    "    print (i)"
   ]
  },
  {
   "cell_type": "markdown",
   "id": "bbbda029",
   "metadata": {},
   "source": [
    "# Write a Python program to write a list content to a file"
   ]
  },
  {
   "cell_type": "code",
   "execution_count": 12,
   "id": "b28b352f",
   "metadata": {},
   "outputs": [
    {
     "name": "stdout",
     "output_type": "stream",
     "text": [
      "Experiance : 4.5 yeasr\n"
     ]
    }
   ],
   "source": [
    "file_path = (r\"D:\\CDAC\\Lab Exercise\\Demo.txt\")\n",
    "file=open(file_path,\"w\")\n",
    "list_= ['Experiance : 4.5 yeasr']\n",
    "file.writelines(list_)\n",
    "file=open(file_path,\"r\")\n",
    "print(file.read())\n",
    "file.close()"
   ]
  },
  {
   "cell_type": "markdown",
   "id": "ed851464",
   "metadata": {},
   "source": [
    "# Write a program to compute the number of characters, words and lines in a file."
   ]
  },
  {
   "cell_type": "code",
   "execution_count": 16,
   "id": "56d6c100",
   "metadata": {},
   "outputs": [
    {
     "name": "stdout",
     "output_type": "stream",
     "text": [
      "No of Character in given file is :  154\n",
      "No of Words in given file is :  24\n",
      "No of Lines in given file is :  6\n"
     ]
    }
   ],
   "source": [
    "file_path = (r\"D:\\CDAC\\Lab Exercise\\Demo.txt\")\n",
    "file=open(file_path,\"r\")\n",
    "data=(file.read())\n",
    "num_of_chars = len(data)\n",
    "print (\"No of Character in given file is : \",num_of_chars)\n",
    "num_of_words = len(data.split())\n",
    "print (\"No of Words in given file is : \",num_of_words)\n",
    "num_of_lines = len(data.splitlines())\n",
    "print (\"No of Lines in given file is : \",num_of_lines)\n",
    "file.close()"
   ]
  },
  {
   "cell_type": "markdown",
   "id": "5478a192",
   "metadata": {},
   "source": [
    "# Subtract a week ( 7 days) from a given date in Python"
   ]
  },
  {
   "cell_type": "code",
   "execution_count": 19,
   "id": "7fd45895",
   "metadata": {},
   "outputs": [
    {
     "name": "stdout",
     "output_type": "stream",
     "text": [
      "Current datetime :  2022-10-06 07:38:08.003768\n",
      "Expected Output :  2022-09-29 07:38:08.003768\n"
     ]
    }
   ],
   "source": [
    "import datetime\n",
    "current_datetime= datetime.datetime.now()\n",
    "print(\"Current datetime : \", current_datetime)\n",
    "print(\"Expected Output : \", current_datetime - datetime.timedelta(days =7))"
   ]
  },
  {
   "cell_type": "markdown",
   "id": "9cc6fc17",
   "metadata": {},
   "source": [
    "# Add week ( 7 days) and 12 hours to a given date\n",
    "    Given:2022-09-29 10:00:00\n",
    "    Expected output:2022-10-05 22:00:00"
   ]
  },
  {
   "cell_type": "code",
   "execution_count": 23,
   "id": "b41b464b",
   "metadata": {},
   "outputs": [
    {
     "name": "stdout",
     "output_type": "stream",
     "text": [
      "Given Date & Time :  2022-09-29 10:00:00\n",
      "Expected Output :  2022-10-05 22:00:00\n"
     ]
    }
   ],
   "source": [
    "import datetime as dt\n",
    "given_date_time=dt.datetime(2022,9,29,10,0,0)\n",
    "print(\"Given Date & Time : \", given_date_time)\n",
    "print(\"Expected Output : \", given_date_time - dt.timedelta(days = -7, hours=12))"
   ]
  },
  {
   "cell_type": "markdown",
   "id": "47843ff2",
   "metadata": {},
   "source": [
    "# Print ten dates, each two a week apart, starting from today, in the form YYYY-MM-DD"
   ]
  },
  {
   "cell_type": "code",
   "execution_count": 24,
   "id": "810cebed",
   "metadata": {},
   "outputs": [
    {
     "name": "stdout",
     "output_type": "stream",
     "text": [
      "Today Date :  2022-10-06\n",
      "After two week date:  2022-10-20\n",
      "After two week date:  2022-11-03\n",
      "After two week date:  2022-11-17\n",
      "After two week date:  2022-12-01\n",
      "After two week date:  2022-12-15\n",
      "After two week date:  2022-12-29\n",
      "After two week date:  2023-01-12\n",
      "After two week date:  2023-01-26\n",
      "After two week date:  2023-02-09\n",
      "After two week date:  2023-02-23\n"
     ]
    }
   ],
   "source": [
    "import datetime as dt\n",
    "today_date=dt.date.today()\n",
    "print(\"Today Date : \", today_date)\n",
    "for i in range(10):\n",
    "    two_week_date= today_date - dt.timedelta(days = -14)\n",
    "    today_date= two_week_date\n",
    "    print (\"After two week date: \",today_date)"
   ]
  },
  {
   "cell_type": "markdown",
   "id": "47e5d15e",
   "metadata": {},
   "source": [
    "# Calculate number of days between two given dates\n",
    "    Given:2022-02-25\n",
    "    date_1 = datetime(2020, 2, 25)\n",
    "    # 2022-09-17\n",
    "    date_2 = datetime(2022, 9, 17)\n",
    "    Expected output:204 days"
   ]
  },
  {
   "cell_type": "code",
   "execution_count": 25,
   "id": "f5a7bddf",
   "metadata": {},
   "outputs": [
    {
     "name": "stdout",
     "output_type": "stream",
     "text": [
      "No. of days between two given dates are  :  204 days, 0:00:00\n"
     ]
    }
   ],
   "source": [
    "import datetime as dt\n",
    "date_1=dt.datetime(2022, 2 ,25)\n",
    "date_2=dt.datetime(2022, 9 ,17)\n",
    "result= date_2 - date_1\n",
    "print(\"No. of days between two given dates are  : \",result)"
   ]
  },
  {
   "cell_type": "markdown",
   "id": "31a3d726",
   "metadata": {},
   "source": [
    "# Write a Python script to display the \n",
    "    a) Current date and time\n",
    "    b) Current year in full\n",
    "    c) Month of year full name\n",
    "    d) Weekday of the week\n",
    "    e) Day of year\n",
    "    f) Day of the month\n",
    "    g) Day of week in full name"
   ]
  },
  {
   "cell_type": "code",
   "execution_count": 26,
   "id": "981c5f57",
   "metadata": {},
   "outputs": [
    {
     "name": "stdout",
     "output_type": "stream",
     "text": [
      "Current Date & Time :  2022-10-06 08:05:45.500760\n",
      "Current Year :  2022\n",
      "Current Month :  October\n",
      "Weekday of the week :  4\n",
      "Current day of the year is :  278 days, 0:00:00\n",
      "Day of the month :  06\n",
      "Weekday of the week :  Thursday\n"
     ]
    }
   ],
   "source": [
    "# Current date and time\n",
    "import datetime as dt\n",
    "Current_date_time=dt.datetime.now()\n",
    "print(\"Current Date & Time : \", Current_date_time)\n",
    "\n",
    "#  Current year in full\n",
    "print(\"Current Year : \", Current_date_time.year)\n",
    "\n",
    "# Month of year full name\n",
    "print(\"Current Month : \", Current_date_time.strftime( \"%B\"))\n",
    "\n",
    "# Weekday of the week\n",
    "print(\"Weekday of the week : \", Current_date_time.strftime ( \"%w\"))\n",
    "\n",
    "# Day of year\n",
    "\n",
    "date_1=dt.date(2022, 1 ,1)\n",
    "date_2=dt.date.today()\n",
    "Day_Year= date_2 - date_1\n",
    "print(\"Current day of the year is : \",Day_Year)\n",
    "\n",
    "#  Day of the month\n",
    "print(\"Day of the month : \", Current_date_time.strftime ( \"%d\"))\n",
    "\n",
    "# Day of week in full name\n",
    "print(\"Weekday of the week : \", Current_date_time.strftime ( \"%A\"))"
   ]
  },
  {
   "cell_type": "markdown",
   "id": "48362378",
   "metadata": {},
   "source": [
    "# Python program to convert a string to datetime:\n",
    "     'Sep 15 2022 2:43AM' into 2022-09-15 02:43:00"
   ]
  },
  {
   "cell_type": "code",
   "execution_count": 28,
   "id": "3644ae93",
   "metadata": {},
   "outputs": [
    {
     "name": "stdout",
     "output_type": "stream",
     "text": [
      "Expected Output :  2022-09-15 02:43:00\n"
     ]
    }
   ],
   "source": [
    "from datetime import datetime\n",
    "\n",
    "datetime_str= 'Sep 15 2022 2:43AM'\n",
    "\n",
    "datetime_obj = datetime.strptime(datetime_str, '%b %d %Y %I:%M%p')\n",
    "\n",
    "print(\"Expected Output : \",datetime_obj)"
   ]
  },
  {
   "cell_type": "markdown",
   "id": "11dafa56",
   "metadata": {},
   "source": [
    "# Python program to convert Year/Month/Day to Day of Year."
   ]
  },
  {
   "cell_type": "code",
   "execution_count": 29,
   "id": "678fde01",
   "metadata": {},
   "outputs": [
    {
     "name": "stdout",
     "output_type": "stream",
     "text": [
      " Current day of the year is :  278 days, 0:00:00\n"
     ]
    }
   ],
   "source": [
    "import datetime as dt\n",
    "date_1=dt.date(2022, 1 ,1)\n",
    "date_2=dt.date.today()\n",
    "Day_Year= date_2 - date_1\n",
    "print(\" Current day of the year is : \",Day_Year)"
   ]
  },
  {
   "cell_type": "code",
   "execution_count": null,
   "id": "a759afc3",
   "metadata": {},
   "outputs": [],
   "source": []
  }
 ],
 "metadata": {
  "kernelspec": {
   "display_name": "Python 3 (ipykernel)",
   "language": "python",
   "name": "python3"
  },
  "language_info": {
   "codemirror_mode": {
    "name": "ipython",
    "version": 3
   },
   "file_extension": ".py",
   "mimetype": "text/x-python",
   "name": "python",
   "nbconvert_exporter": "python",
   "pygments_lexer": "ipython3",
   "version": "3.9.12"
  }
 },
 "nbformat": 4,
 "nbformat_minor": 5
}
