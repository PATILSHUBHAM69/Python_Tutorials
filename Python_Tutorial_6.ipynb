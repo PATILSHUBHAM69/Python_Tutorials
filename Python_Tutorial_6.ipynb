{
 "cells": [
  {
   "cell_type": "markdown",
   "id": "5da53eba",
   "metadata": {},
   "source": [
    " # Write a Python program to read an entire text file"
   ]
  },
  {
   "cell_type": "code",
   "execution_count": 1,
   "id": "dad6ef3a",
   "metadata": {},
   "outputs": [
    {
     "name": "stdout",
     "output_type": "stream",
     "text": [
      "Name = Shubham Patil\n",
      "Age = 26\n",
      "Location = Kolhapur, Maharashtra\n",
      "Occupation = service Engineer, Mahindra.\n"
     ]
    }
   ],
   "source": [
    "file_path = (r\"D:\\CDAC\\Lab Exercise\\Demo.txt\")\n",
    "file= open(file_path,\"r\")\n",
    "print(file.read())\n",
    "file.close()"
   ]
  },
  {
   "cell_type": "markdown",
   "id": "a6de9bea",
   "metadata": {},
   "source": [
    "# Write a program that counts lines and characters in a file. With your favorite text editor, code a Python module called my_mode.py, which exports three top-level names:\n",
    "    a) A countLines(name) function that reads an input file and counts the number of lines in it \n",
    "    b) A countChars(name) function that reads an input file and counts the number of characters in it \n",
    "    c) A test(name) function that calls both counting functions with a given input filename. \n",
    "    All three mymod functions should expect a filename string to be passed in.Now, test your module interactively, using import and name qualification to fetch your exports. "
   ]
  },
  {
   "cell_type": "code",
   "execution_count": 2,
   "id": "39b6f49b",
   "metadata": {},
   "outputs": [
    {
     "name": "stdout",
     "output_type": "stream",
     "text": [
      " No of lines in given file are :  4\n",
      " No of Chars in given file are :  103\n",
      " No of lines in given file are :  4\n",
      " No of Chars in given file are :  103\n"
     ]
    }
   ],
   "source": [
    "# Save this file in your cwd with my_mode.py extension\n",
    "def countLines():\n",
    "    file_path = (r\"D:\\CDAC\\Lab Exercise\\Demo.txt\")\n",
    "    file=open(file_path,\"r\")\n",
    "    print(\" No of lines in given file are : \",len(file.readlines()))\n",
    "    file.close()\n",
    "\n",
    "def countChars():\n",
    "    file_path = (r\"D:\\CDAC\\Lab Exercise\\Demo.txt\")\n",
    "    file=open(file_path,\"r\")\n",
    "    print(\" No of Chars in given file are : \",len(file.read()))\n",
    "    file.close()\n",
    "\n",
    "def Text():\n",
    "    a=countLines()\n",
    "    b=countChars()\n",
    "    file.close()\n",
    "\n",
    "# call the function\n",
    "\n",
    "countLines()\n",
    "\n",
    "countChars()\n",
    "\n",
    "Text()"
   ]
  },
  {
   "cell_type": "markdown",
   "id": "dbc96385",
   "metadata": {},
   "source": [
    "# Test your my_mod module from above interactively, by using from to load the exports directly, first by name, then using the from* variant to fetch everything."
   ]
  },
  {
   "cell_type": "code",
   "execution_count": 3,
   "id": "f2b9c6b4",
   "metadata": {},
   "outputs": [
    {
     "name": "stdout",
     "output_type": "stream",
     "text": [
      " No of lines in given file are :  4\n",
      " No of Chars in given file are :  103\n",
      " No of lines in given file are :  4\n",
      " No of Chars in given file are :  103\n"
     ]
    }
   ],
   "source": [
    "# import save module which save in previous question.\n",
    "\n",
    "from my_mode import countLines\n",
    "countLines()\n",
    "from my_mode import countChars\n",
    "countChars()\n",
    "from my_mode import *\n",
    "countLines()\n",
    "countChars()"
   ]
  },
  {
   "cell_type": "markdown",
   "id": "f5a4e381",
   "metadata": {},
   "source": [
    "# Package imports. Finally, import your file from a package. Create a subdirectory called mypkg nested in a directory on your module import search path, move the my_mode.py module file you created in previous question into the new directory, and try to import it with a package import of the form: import mypkg.my_mode. "
   ]
  },
  {
   "cell_type": "code",
   "execution_count": 4,
   "id": "becb1a68",
   "metadata": {},
   "outputs": [
    {
     "name": "stdout",
     "output_type": "stream",
     "text": [
      " No of lines in given file are :  4\n",
      " No of Chars in given file are :  103\n"
     ]
    }
   ],
   "source": [
    "# make floder mypkg in cwd and save my_mode.py file in it.\n",
    "\n",
    "import mypkg\n",
    "import mypkg.my_mode\n",
    "mypkg.my_mode.Text()"
   ]
  }
 ],
 "metadata": {
  "kernelspec": {
   "display_name": "Python 3 (ipykernel)",
   "language": "python",
   "name": "python3"
  },
  "language_info": {
   "codemirror_mode": {
    "name": "ipython",
    "version": 3
   },
   "file_extension": ".py",
   "mimetype": "text/x-python",
   "name": "python",
   "nbconvert_exporter": "python",
   "pygments_lexer": "ipython3",
   "version": "3.9.12"
  }
 },
 "nbformat": 4,
 "nbformat_minor": 5
}
