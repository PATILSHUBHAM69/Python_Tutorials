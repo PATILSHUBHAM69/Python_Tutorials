{
 "cells": [
  {
   "cell_type": "markdown",
   "id": "a675f0d0",
   "metadata": {},
   "source": [
    "# Follow the steps: \n",
    "    # Create a class, Triangle. Its __init__() method should take self, angle1, angle2, and angle3 as arguments. Make sure to set these appropriately in the body of the __init__()method. \n",
    "    # Create a variable named number_of_sides and set it equal to 3.  Create a method named check_angles. The sum of a triangle's three angles is It should return True if the sum of self.angle1, self.angle2, and self.angle3 is equal 180, and False otherwise. \n",
    "    # Create a variable named my_triangle and set it equal to a new instance of your Triangle class. Pass it three angles that sum to 180 (e.g. 90, 30, 60). \n",
    "    # Print out my_triangle.number_of_sides and print out my_triangle.check_angles()"
   ]
  },
  {
   "cell_type": "code",
   "execution_count": 1,
   "id": "6bd1d7d1",
   "metadata": {},
   "outputs": [
    {
     "name": "stdout",
     "output_type": "stream",
     "text": [
      "Enter angle 1 : 60\n",
      "Enter angle 2 : 30\n",
      "Enter angle 3 : 90\n",
      "Number of sides of triangle :  3\n",
      "True\n"
     ]
    }
   ],
   "source": [
    "class Triangle:\n",
    "    number_of_sides=3\n",
    "    \n",
    "    def __init__(self,angle1,angle2,angle3):\n",
    "        self.angle_1=angle1\n",
    "        self.angle_2=angle2\n",
    "        self.angle_3=angle3\n",
    "    \n",
    "    def check_angles(self):\n",
    "        self.sum=self.angle_1+self.angle_2+self.angle_3\n",
    "\n",
    "        if (self.sum==180):\n",
    "            \n",
    "            print(\"True\")\n",
    "\n",
    "        else:\n",
    "            print(\"False\")\n",
    "\n",
    "angle_1=int(input(\"Enter angle 1 : \"))\n",
    "angle_2=int(input(\"Enter angle 2 : \"))\n",
    "angle_3=int(input(\"Enter angle 3 : \"))\n",
    "\n",
    "my_triangle=Triangle(angle_1,angle_2,angle_3)\n",
    "print(\"Number of sides of triangle : \",my_triangle.number_of_sides)\n",
    "my_triangle.check_angles()"
   ]
  },
  {
   "cell_type": "markdown",
   "id": "53d9b7b0",
   "metadata": {},
   "source": [
    "# Define a class called Songs, it will show the lyrics of a song. Its __init__() method should have two arguments:self and lyrics.lyricsis a list. Inside your class create a method called sing_me_a_song that prints each element of lyricson his own line. Define a varible:\n",
    "    happy_bday = Song([\"May god bless you, \",\n",
    "     \"Have a sunshine on you,\",\n",
    "     \"Happy Birthday to you !\"])\n",
    "    #Call the sing_me_song method on this variable."
   ]
  },
  {
   "cell_type": "code",
   "execution_count": 2,
   "id": "6e2b2e7b",
   "metadata": {},
   "outputs": [
    {
     "name": "stdout",
     "output_type": "stream",
     "text": [
      "May god bless you,\n",
      "Have a sunshine on you,\n",
      "Happy Birthday to you !\n"
     ]
    }
   ],
   "source": [
    "class Songs:\n",
    "\n",
    "    def __init__(self,lyrics):\n",
    "        self.lyrics=lyrics\n",
    "\n",
    "    def sing_me_a_song(self):\n",
    "        for line in self.lyrics:\n",
    "        \n",
    "            print(line)\n",
    "        \n",
    "happy_bday= Songs ([\"May god bless you,\",\n",
    "                    \"Have a sunshine on you,\",\n",
    "                    \"Happy Birthday to you !\"])\n",
    "\n",
    "happy_bday.sing_me_a_song()"
   ]
  },
  {
   "cell_type": "markdown",
   "id": "d310ab1d",
   "metadata": {},
   "source": [
    "# Define a class called Lunch.Its __init__() method should have two arguments:selfanf menu.Where menu is a string. Add a method called menu_price.It will involve a ifstatement:\n",
    "\n",
    "    # if \"menu 1\" print \"Your choice:\", menu, \"Price 12.00\", if \"menu 2\" print \"Your choice:\", menu, \"Price 13.40\", else print \"Error in menu\".\n",
    "\n",
    "# To check if it works define: Paul=Lunch(\"menu 1\") and call Paul.menu_price()."
   ]
  },
  {
   "cell_type": "code",
   "execution_count": 3,
   "id": "c81c6c3e",
   "metadata": {},
   "outputs": [
    {
     "name": "stdout",
     "output_type": "stream",
     "text": [
      "Enter Menu (Menu1/Menu2)Menu1\n",
      "your choice Menu 1\n",
      "Price is 12.00 Rs\n"
     ]
    }
   ],
   "source": [
    "class Lunch:\n",
    "\n",
    "    def __init__(self,menu):\n",
    "        self.menu=menu\n",
    "\n",
    "    def menu_price(self):\n",
    "        if self.menu== \"Menu1\":\n",
    "            print(\"your choice Menu 1\")\n",
    "            print(\"Price is 12.00 Rs\")\n",
    "\n",
    "        elif  self.menu==\"Menu2\":\n",
    "            print(\"your choice Menu 2\") \n",
    "            print(\"Price is 13.40 Rs\")\n",
    "\n",
    "        else:\n",
    "            print(\" Error in menu\")\n",
    "\n",
    "user_input_menu=input(\"Enter Menu (Menu1/Menu2)\")\n",
    "Paul=Lunch(user_input_menu)\n",
    "Paul.menu_price()"
   ]
  },
  {
   "cell_type": "markdown",
   "id": "11a3af57",
   "metadata": {},
   "source": [
    "# Write a Python class which has two methods get_String and print_String. get_String accept a string from the user and print_String print the string in upper case."
   ]
  },
  {
   "cell_type": "code",
   "execution_count": 6,
   "id": "9aef406b",
   "metadata": {},
   "outputs": [
    {
     "name": "stdout",
     "output_type": "stream",
     "text": [
      "Enter a string : python\n",
      "Expected Output : PYTHON\n"
     ]
    }
   ],
   "source": [
    "class uppercase:\n",
    "    \n",
    "    def get_string(self):\n",
    "        \n",
    "        self.string=input(\"Enter a string : \")\n",
    "\n",
    "    def print_string(self):\n",
    "        \n",
    "        print(\"Expected Output :\",self.string.upper())\n",
    "\n",
    "obj=uppercase()\n",
    "obj.get_string()\n",
    "obj.print_string()"
   ]
  },
  {
   "cell_type": "markdown",
   "id": "db044373",
   "metadata": {},
   "source": [
    "# Write a program to find the area and perimeter of a rectangle using classes and objects. "
   ]
  },
  {
   "cell_type": "code",
   "execution_count": 8,
   "id": "23876767",
   "metadata": {},
   "outputs": [
    {
     "name": "stdout",
     "output_type": "stream",
     "text": [
      "Enter Length of a Rectangle : 12\n",
      "Enter Breadth of a Rectangle : 6\n",
      "1.Area\n",
      "2.Perimeter\n",
      "3.Exit\n",
      "Enter your choice : 1\n",
      "Area of rectangle with length  12  and breadth 6  is 72\n",
      "Enter your choice : 2\n",
      "Perimeter of rectangle with length  12  and breadth 6  is 36\n",
      "Enter your choice : 3\n",
      "End of program\n"
     ]
    }
   ],
   "source": [
    "class Rectangle:\n",
    "\n",
    "    def __init__(self,length,breadth):\n",
    "        self.length=length\n",
    "        self.breadth=breadth\n",
    "\n",
    "    def Area(self):\n",
    "        return (self.length*self.breadth)\n",
    "\n",
    "    def Perimeter(self):\n",
    "        return (2*self.length + 2*self.breadth)\n",
    "\n",
    "length=int(input(\"Enter Length of a Rectangle : \"))\n",
    "breadth=int(input(\"Enter Breadth of a Rectangle : \"))\n",
    "area=print(\"1.Area\")\n",
    "perimeter=print(\"2.Perimeter\")\n",
    "exit=print(\"3.Exit\")\n",
    "\n",
    "obj=Rectangle(length,breadth)\n",
    "\n",
    "x=0\n",
    "while x!=3:\n",
    "    x=int(input(\"Enter your choice : \"))\n",
    "    \n",
    "    if (x==1):\n",
    "        print(\"Area of rectangle with length \",length, \" and breadth\",breadth,\" is\", obj.Area())\n",
    "\n",
    "    elif (x==2):\n",
    "        print(\"Perimeter of rectangle with length \",length, \" and breadth\",breadth,\" is\", obj.Perimeter())\n",
    "        \n",
    "else: \n",
    "    print(\"End of program\")"
   ]
  },
  {
   "cell_type": "code",
   "execution_count": null,
   "id": "ce4d8289",
   "metadata": {},
   "outputs": [],
   "source": []
  }
 ],
 "metadata": {
  "kernelspec": {
   "display_name": "Python 3 (ipykernel)",
   "language": "python",
   "name": "python3"
  },
  "language_info": {
   "codemirror_mode": {
    "name": "ipython",
    "version": 3
   },
   "file_extension": ".py",
   "mimetype": "text/x-python",
   "name": "python",
   "nbconvert_exporter": "python",
   "pygments_lexer": "ipython3",
   "version": "3.9.12"
  }
 },
 "nbformat": 4,
 "nbformat_minor": 5
}
