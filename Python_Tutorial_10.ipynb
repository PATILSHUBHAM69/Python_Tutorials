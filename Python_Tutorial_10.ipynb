{
 "cells": [
  {
   "cell_type": "markdown",
   "id": "3b86c9b8",
   "metadata": {},
   "source": [
    "# Write a function to compute 5/0 and use try/except to catch the exceptions."
   ]
  },
  {
   "cell_type": "code",
   "execution_count": 1,
   "id": "27c3f1ca",
   "metadata": {},
   "outputs": [
    {
     "name": "stdout",
     "output_type": "stream",
     "text": [
      " Denominator should not be zero\n"
     ]
    }
   ],
   "source": [
    "def division():\n",
    "    try: \n",
    "        Result = 5/0\n",
    "        print(Result)\n",
    "    except:\n",
    "        print(\" Denominator should not be zero\")\n",
    "obj = division()"
   ]
  },
  {
   "cell_type": "markdown",
   "id": "28bf11e6",
   "metadata": {},
   "source": [
    "# Write a Python program to access the array element whose index is out of bound and handle the corresponding exception"
   ]
  },
  {
   "cell_type": "code",
   "execution_count": 2,
   "id": "40bfd820",
   "metadata": {},
   "outputs": [
    {
     "name": "stdout",
     "output_type": "stream",
     "text": [
      " Index Error, Index out of range\n"
     ]
    }
   ],
   "source": [
    "try:\n",
    "    array = [1,2,3,4,5]\n",
    "    print(array [6])\n",
    "except:\n",
    "    print(\" Index Error, Index out of range\")"
   ]
  },
  {
   "cell_type": "markdown",
   "id": "aa04e668",
   "metadata": {},
   "source": [
    "# Write a Python Program to handle multiple errors with one except statement"
   ]
  },
  {
   "cell_type": "code",
   "execution_count": 8,
   "id": "1dfcc2e9",
   "metadata": {},
   "outputs": [
    {
     "name": "stdout",
     "output_type": "stream",
     "text": [
      "division by zero\n"
     ]
    }
   ],
   "source": [
    "import sys\n",
    "\n",
    "try:\n",
    "    Division = 5/0\n",
    "    array = [1,2,3,4]\n",
    "    string = CDAC\n",
    "    \n",
    "    print(Division)\n",
    "    print(array[5])\n",
    "    print(string)\n",
    "    \n",
    "except (ZeroDivisionError, IndexError, NameError):\n",
    "    print (sys.exc_info() [1])"
   ]
  },
  {
   "cell_type": "markdown",
   "id": "53802cf7",
   "metadata": {},
   "source": [
    "# Write a Python Program to depict else clause with try-except"
   ]
  },
  {
   "cell_type": "code",
   "execution_count": 10,
   "id": "b2710058",
   "metadata": {},
   "outputs": [
    {
     "name": "stdout",
     "output_type": "stream",
     "text": [
      " Enter the Numerator :  15\n",
      " Enter the Denominator :  0\n",
      " Denominator should not be zero\n",
      " close \n"
     ]
    }
   ],
   "source": [
    "try:\n",
    "    num=int(input(\" Enter the Numerator :  \"))\n",
    "    deo=int(input(\" Enter the Denominator :  \"))\n",
    "    result_1=num/deo\n",
    "    print(\" Result  :  \",result_1)\n",
    "    \n",
    "except:\n",
    "    print (\" Denominator should not be zero\")\n",
    "else:\n",
    "    result_2=result_1 * num\n",
    "    print(\" Ouput at else block : \",result_2)\n",
    "\n",
    "finally:\n",
    "    print(\" close \")"
   ]
  },
  {
   "cell_type": "markdown",
   "id": "45ed1ce2",
   "metadata": {},
   "source": [
    "# Write a Python Program to depict Raising Exception"
   ]
  },
  {
   "cell_type": "code",
   "execution_count": 14,
   "id": "2a673c57",
   "metadata": {},
   "outputs": [
    {
     "name": "stdout",
     "output_type": "stream",
     "text": [
      " Enter the Numerator :  15\n",
      " Enter the Denominator :  0\n",
      " Denominator should not be zero \n"
     ]
    }
   ],
   "source": [
    "try:\n",
    "    num=int(input(\" Enter the Numerator :  \"))\n",
    "    deo=int(input(\" Enter the Denominator :  \"))\n",
    "    \n",
    "    if deo <= 0:\n",
    "        raise ZeroDivisionError(\" Denominator should not be zero \")\n",
    "    else:\n",
    "        result = num/deo\n",
    "        print(\" Result  :  \",result)\n",
    "    \n",
    "except  ZeroDivisionError as zd :\n",
    "    \n",
    "    print (zd)\n",
    "\n"
   ]
  },
  {
   "cell_type": "markdown",
   "id": "501324bf",
   "metadata": {},
   "source": [
    "# Write a python program to create user-defined exception"
   ]
  },
  {
   "cell_type": "code",
   "execution_count": 16,
   "id": "8a23eaec",
   "metadata": {},
   "outputs": [
    {
     "name": "stdout",
     "output_type": "stream",
     "text": [
      " Enter the number  :  5\n",
      " congratulation! You guessed it correctly \n"
     ]
    }
   ],
   "source": [
    "class error(Exception):\n",
    "    pass\n",
    "class ValueTooSmallError(error):\n",
    "    pass\n",
    "class ValueTooLargeError(error):\n",
    "    pass\n",
    "\n",
    "number=5\n",
    "\n",
    "try:\n",
    "    x=int(input(\" Enter the number  :  \"))\n",
    "    if x < number:\n",
    "        raise ValueTooSmallError (\" This is too small, try again! \")\n",
    "    elif x > 5:\n",
    "        raise ValueTooLargeError (\" This is too Large, try again! \")\n",
    "    else:\n",
    "        print(\" congratulation! You guessed it correctly \")\n",
    "        \n",
    "\n",
    "except ValueTooSmallError as se:\n",
    "    print(se)\n",
    "    \n",
    "except ValueTooLargeError as le:\n",
    "    print(le)"
   ]
  },
  {
   "cell_type": "markdown",
   "id": "71908a3c",
   "metadata": {},
   "source": [
    "# Print one message if the try block raises a NameError and another for other errors:"
   ]
  },
  {
   "cell_type": "code",
   "execution_count": 19,
   "id": "15e936e4",
   "metadata": {},
   "outputs": [
    {
     "name": "stdout",
     "output_type": "stream",
     "text": [
      " Name variable shlould be string, it enclosed in single quama\n"
     ]
    }
   ],
   "source": [
    "try:\n",
    "    class first:\n",
    "        def __init__(self,name,roll_no):\n",
    "            self.name=name\n",
    "            self.roll_no=roll_no\n",
    "\n",
    "        def class1(self):\n",
    "            std_name=print(\" student name : \",self.name)\n",
    "            std_roll_no=print(\" student roll no is : \",self.roll_no)\n",
    "\n",
    "    c1=first(shubham,34)\n",
    "    c1.class1()\n",
    "            \n",
    "except NameError:\n",
    "    print(\" Name variable shlould be string, it enclosed in single quama\")"
   ]
  },
  {
   "cell_type": "markdown",
   "id": "a2a726f9",
   "metadata": {},
   "source": [
    "# Try to open and write to a file that is not writable:"
   ]
  },
  {
   "cell_type": "code",
   "execution_count": 21,
   "id": "04ad5d8d",
   "metadata": {},
   "outputs": [
    {
     "name": "stdout",
     "output_type": "stream",
     "text": [
      "Fruits\n",
      "Mango\n",
      "Apple\n",
      "Banana\n",
      "Kiwi\n",
      "Lemon\n",
      "Grapes\n",
      "\n",
      "File open in 'read' mode, to write open in 'write' mode \n"
     ]
    }
   ],
   "source": [
    "try:\n",
    "    file=open(r\"D:\\CDAC\\code\\Lab Exercise\\fruits.txt\",\"r\")\n",
    "    print(file.read())\n",
    "    file.write('\\n' 'Goa - Panji')\n",
    "    \n",
    "except:\n",
    "    print( )\n",
    "    print(\"File open in 'read' mode, to write open in 'write' mode \")\n",
    "\n",
    "finally:\n",
    "    file.close()"
   ]
  },
  {
   "cell_type": "markdown",
   "id": "d270f3e8",
   "metadata": {},
   "source": [
    "# Write a python program to raise an error and stop the program if x is lower than 0."
   ]
  },
  {
   "cell_type": "code",
   "execution_count": 27,
   "id": "062d82ff",
   "metadata": {},
   "outputs": [
    {
     "name": "stdout",
     "output_type": "stream",
     "text": [
      "Enter natural number :  4\n",
      "Given number is Natural no  :   4\n"
     ]
    }
   ],
   "source": [
    "try:\n",
    "   \n",
    "    user_input=int(input(\"Enter natural number :  \"))\n",
    "    if user_input > 0:\n",
    "        print(\"Given number is Natural no  :  \",user_input)\n",
    "\n",
    "    elif x==0:\n",
    "        raise ValueError\n",
    "        \n",
    "except ValueError:\n",
    "    print( \"ValueError\")"
   ]
  },
  {
   "cell_type": "markdown",
   "id": "70650dee",
   "metadata": {},
   "source": [
    "# Write a python program to raise a TypeError if x is not an integer"
   ]
  },
  {
   "cell_type": "code",
   "execution_count": 29,
   "id": "7c0c9b12",
   "metadata": {},
   "outputs": [
    {
     "name": "stdout",
     "output_type": "stream",
     "text": [
      "<class 'TypeError'>\n"
     ]
    }
   ],
   "source": [
    "import sys\n",
    "try:\n",
    "    \n",
    "    class first:\n",
    "        def __init__(self,first_num,second_num):\n",
    "            self.first_num= first_num\n",
    "            self.second_num=second_num\n",
    "\n",
    "        def class1(self):\n",
    "        \n",
    "            first_num=self.first_num\n",
    "            second_num=self.second_num\n",
    "            print(first_num+second_num)\n",
    "\n",
    "    obj=first(6,'shubham')\n",
    "    obj.class1()\n",
    "\n",
    "except TypeError:\n",
    "    print (sys.exc_info() [0])\n",
    "\n"
   ]
  },
  {
   "cell_type": "code",
   "execution_count": null,
   "id": "347abb11",
   "metadata": {},
   "outputs": [],
   "source": []
  }
 ],
 "metadata": {
  "kernelspec": {
   "display_name": "Python 3 (ipykernel)",
   "language": "python",
   "name": "python3"
  },
  "language_info": {
   "codemirror_mode": {
    "name": "ipython",
    "version": 3
   },
   "file_extension": ".py",
   "mimetype": "text/x-python",
   "name": "python",
   "nbconvert_exporter": "python",
   "pygments_lexer": "ipython3",
   "version": "3.9.12"
  }
 },
 "nbformat": 4,
 "nbformat_minor": 5
}
