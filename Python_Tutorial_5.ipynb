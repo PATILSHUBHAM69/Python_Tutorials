{
 "cells": [
  {
   "cell_type": "markdown",
   "id": "648d69e6",
   "metadata": {},
   "source": [
    "# write a Program to display the Fibonacci sequence up to n-th term where n is provided by the user"
   ]
  },
  {
   "cell_type": "code",
   "execution_count": 1,
   "id": "501fd0c6",
   "metadata": {},
   "outputs": [
    {
     "name": "stdout",
     "output_type": "stream",
     "text": [
      "Enter the n-th term to display Fibonacci sequence : 10\n"
     ]
    }
   ],
   "source": [
    "user_input = int(input(\"Enter the n-th term to display Fibonacci sequence : \"))"
   ]
  },
  {
   "cell_type": "code",
   "execution_count": 2,
   "id": "b415a401",
   "metadata": {},
   "outputs": [
    {
     "name": "stdout",
     "output_type": "stream",
     "text": [
      " Fibonacci sequence uo to user input trem is : [0, 1, 1, 2, 3, 5, 8, 13, 21, 34]\n"
     ]
    }
   ],
   "source": [
    "f1 = 0\n",
    "f2 = 1\n",
    "list_=[]\n",
    "if user_input <= 0:\n",
    "    print(\" Enter the n-th term greater than 0\")\n",
    "else:\n",
    "    for i in range(user_input):\n",
    "        list_.append(f1)\n",
    "        f3 = f1\n",
    "        f1 = f2\n",
    "        f2 = f3 + f2\n",
    "print(\" Fibonacci sequence uo to user input trem is :\",list_)"
   ]
  },
  {
   "cell_type": "markdown",
   "id": "d4a64e64",
   "metadata": {},
   "source": [
    "#  Write a Python Program to Display Powers of 2 Using Anonymous Function ( Lambda function). Take number of terms from user"
   ]
  },
  {
   "cell_type": "code",
   "execution_count": 3,
   "id": "649d2055",
   "metadata": {},
   "outputs": [
    {
     "name": "stdout",
     "output_type": "stream",
     "text": [
      " Enter total no of terms = 5\n"
     ]
    }
   ],
   "source": [
    "user_input= int(input(\" Enter total no of terms = \"))"
   ]
  },
  {
   "cell_type": "code",
   "execution_count": 4,
   "id": "e1f54a6d",
   "metadata": {},
   "outputs": [
    {
     "name": "stdout",
     "output_type": "stream",
     "text": [
      " 2 raise to power 0 is 1\n",
      " 2 raise to power 1 is 2\n",
      " 2 raise to power 2 is 4\n",
      " 2 raise to power 3 is 8\n",
      " 2 raise to power 4 is 16\n"
     ]
    }
   ],
   "source": [
    "power_of_two = lambda a:2**i\n",
    "for i in range(user_input):\n",
    "    print(' 2 raise to power',i,'is',power_of_two(i))"
   ]
  },
  {
   "cell_type": "markdown",
   "id": "ec6f8f57",
   "metadata": {},
   "source": [
    "# Write a Python Program to find numbers divisible by thirteen from a list using anonymous function"
   ]
  },
  {
   "cell_type": "code",
   "execution_count": 5,
   "id": "ab6f43c7",
   "metadata": {},
   "outputs": [
    {
     "name": "stdout",
     "output_type": "stream",
     "text": [
      " Numbers divisible by 13 from given list are :  [13, 39, 130, 273]\n"
     ]
    }
   ],
   "source": [
    "list_=[13,34,39,130,145,159,235,273]\n",
    "result = list(filter(lambda x: (x%13==0),list_))\n",
    "print(\" Numbers divisible by 13 from given list are : \",result)"
   ]
  },
  {
   "cell_type": "markdown",
   "id": "d3c0cdb3",
   "metadata": {},
   "source": [
    "# Write a Python program to display the Fibonacci sequence up to n-th term by using recursive functions"
   ]
  },
  {
   "cell_type": "code",
   "execution_count": 6,
   "id": "d0967fd7",
   "metadata": {},
   "outputs": [
    {
     "name": "stdout",
     "output_type": "stream",
     "text": [
      " Enter the no of terms to display Fibonacci : 10\n",
      "0\t1\t1\t2\t3\t5\t8\t13\t21\t34\t"
     ]
    }
   ],
   "source": [
    "def fibo (user_input) :\n",
    "    if (user_input==1):\n",
    "        return 0\n",
    "    if (user_input==2):\n",
    "        return 1\n",
    "    return (fibo(user_input-1)+fibo(user_input-2))\n",
    "user_input=int(input(\" Enter the no of terms to display Fibonacci : \"))\n",
    "for i in range (1,user_input+1):\n",
    "    print(fibo(i),end='\\t')\n"
   ]
  },
  {
   "cell_type": "markdown",
   "id": "a4fd2761",
   "metadata": {},
   "source": [
    "# Write a Python program to find the sum of natural numbers up to n using recursive function"
   ]
  },
  {
   "cell_type": "code",
   "execution_count": 7,
   "id": "eb597ed1",
   "metadata": {},
   "outputs": [
    {
     "name": "stdout",
     "output_type": "stream",
     "text": [
      "Enter the n-th natural number to find sum : 10\n",
      "Expected Output :  55\n"
     ]
    }
   ],
   "source": [
    "def recur_sum(n):\n",
    "    if (n<=0):\n",
    "        return n\n",
    "    else:\n",
    "        return (n+recur_sum(n-1))\n",
    "user_input=int(input(\"Enter the n-th natural number to find sum : \"))\n",
    "if (user_input<0):\n",
    "    print(\"Enter a natural number\")\n",
    "else:\n",
    "    print(\"Expected Output : \",recur_sum(user_input))"
   ]
  },
  {
   "cell_type": "markdown",
   "id": "78435e76",
   "metadata": {},
   "source": [
    "# Write a Python program to convert decimal number into binary number using recursive function"
   ]
  },
  {
   "cell_type": "code",
   "execution_count": 8,
   "id": "428429d2",
   "metadata": {},
   "outputs": [
    {
     "name": "stdout",
     "output_type": "stream",
     "text": [
      "Enter the decimal number :  45\n",
      "101101"
     ]
    }
   ],
   "source": [
    "def find(dec_num):\n",
    "    if (dec_num==0):\n",
    "        return\n",
    "    else:\n",
    "        find(int(dec_num/2))\n",
    "        print(dec_num%2,end=\"\")\n",
    "user_input=int(input(\"Enter the decimal number :  \"))\n",
    "find(user_input)    "
   ]
  }
 ],
 "metadata": {
  "kernelspec": {
   "display_name": "Python 3 (ipykernel)",
   "language": "python",
   "name": "python3"
  },
  "language_info": {
   "codemirror_mode": {
    "name": "ipython",
    "version": 3
   },
   "file_extension": ".py",
   "mimetype": "text/x-python",
   "name": "python",
   "nbconvert_exporter": "python",
   "pygments_lexer": "ipython3",
   "version": "3.9.12"
  }
 },
 "nbformat": 4,
 "nbformat_minor": 5
}
