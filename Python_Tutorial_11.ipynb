{
 "cells": [
  {
   "cell_type": "markdown",
   "id": "49302ec2",
   "metadata": {},
   "source": [
    "# Write a Python program that matches a string that has an a followed by zero or more b's"
   ]
  },
  {
   "cell_type": "code",
   "execution_count": 1,
   "id": "2749a518",
   "metadata": {},
   "outputs": [
    {
     "name": "stdout",
     "output_type": "stream",
     "text": [
      "Enter the string : this all about python\n",
      "Enter string is matches a follow by zero or more b's : 2\n",
      "['a', 'ab']\n"
     ]
    }
   ],
   "source": [
    "import re\n",
    "user_input = input(\"Enter the string : \")\n",
    "pattern = re.compile(\"ab*\")\n",
    "result = pattern.findall(user_input)\n",
    "if result:\n",
    "    print(\"Enter string is matches a follow by zero or more b's :\",len(result))\n",
    "    print(result)\n",
    "else:\n",
    "    print(\"Enter string not matches by zero or more b's\")"
   ]
  },
  {
   "cell_type": "markdown",
   "id": "1a2c2323",
   "metadata": {},
   "source": [
    "# Write a Python program to check for a number at the end of a string"
   ]
  },
  {
   "cell_type": "code",
   "execution_count": 2,
   "id": "97688b5d",
   "metadata": {},
   "outputs": [
    {
     "name": "stdout",
     "output_type": "stream",
     "text": [
      "Enter the string : best coding language is python3\n",
      "Enter string is matches with number at end of string ['3']\n"
     ]
    }
   ],
   "source": [
    "import re\n",
    "user_input = input(\"Enter the string : \")\n",
    "pattern = re.compile(\"\\d$\")\n",
    "result = pattern.findall(user_input)\n",
    "if result:\n",
    "    print(\"Enter string is matches with number at end of string\",result)\n",
    "else:\n",
    "    print(\"Enter string not matches with number at end of string\")"
   ]
  },
  {
   "cell_type": "markdown",
   "id": "a4a0b1a7",
   "metadata": {},
   "source": [
    "# Write a Python program to search some literals strings in a string"
   ]
  },
  {
   "cell_type": "code",
   "execution_count": 3,
   "id": "dda3105a",
   "metadata": {},
   "outputs": [
    {
     "name": "stdout",
     "output_type": "stream",
     "text": [
      " Enter the strings : python is very simple coding language\n",
      " Enter the string you want to find : python\n",
      " matched\n"
     ]
    }
   ],
   "source": [
    "import re\n",
    "user_input_1 = input(\" Enter the strings : \")\n",
    "user_input_2 = input(\" Enter the string you want to find : \")\n",
    "pattern = re.compile(user_input_2)\n",
    "result = pattern.findall(user_input_1)\n",
    "if result:\n",
    "    print(\" matched\")\n",
    "else:\n",
    "    print(\" Not matched\")\n"
   ]
  },
  {
   "cell_type": "markdown",
   "id": "a194bfa6",
   "metadata": {},
   "source": [
    "# Replace all occurrences of 5 with five for the given string i.e. 'They ate 5 apples and 5 oranges'"
   ]
  },
  {
   "cell_type": "code",
   "execution_count": 4,
   "id": "08a18b68",
   "metadata": {},
   "outputs": [
    {
     "name": "stdout",
     "output_type": "stream",
     "text": [
      "Expected Output :\n",
      "They ate five apples and five oranges\n"
     ]
    }
   ],
   "source": [
    "import re\n",
    "print(\"Expected Output :\")\n",
    "print(re.sub('5','five','They ate 5 apples and 5 oranges'))"
   ]
  },
  {
   "cell_type": "markdown",
   "id": "c9518992",
   "metadata": {},
   "source": [
    "# Replace all occurrences of note irrespective of case with X in given string i.e. 'This note should not be NoTeD'."
   ]
  },
  {
   "cell_type": "code",
   "execution_count": 5,
   "id": "1d90944f",
   "metadata": {},
   "outputs": [
    {
     "name": "stdout",
     "output_type": "stream",
     "text": [
      "Expected Output :\n",
      "This X should not be XD\n"
     ]
    }
   ],
   "source": [
    "import re\n",
    "print(\"Expected Output :\")\n",
    "print(re.sub('note','X','This note should not be NoTeD',flags=re.IGNORECASE))"
   ]
  },
  {
   "cell_type": "markdown",
   "id": "b42b0f07",
   "metadata": {},
   "source": [
    "# Write a Python program to remove leading zeros from an IP address.\n",
    "    For example:\n",
    "    IP Address 216.08.094.196 should be represented as 216.8.94.196"
   ]
  },
  {
   "cell_type": "code",
   "execution_count": 6,
   "id": "1753e8e6",
   "metadata": {},
   "outputs": [
    {
     "name": "stdout",
     "output_type": "stream",
     "text": [
      "Expected Output :  216.8.94.196\n"
     ]
    }
   ],
   "source": [
    "import re\n",
    "ip = \"216.08.094.196\"\n",
    "string = re.sub('\\.[0]','.',ip)\n",
    "print(\"Expected Output : \",string)"
   ]
  }
 ],
 "metadata": {
  "kernelspec": {
   "display_name": "Python 3 (ipykernel)",
   "language": "python",
   "name": "python3"
  },
  "language_info": {
   "codemirror_mode": {
    "name": "ipython",
    "version": 3
   },
   "file_extension": ".py",
   "mimetype": "text/x-python",
   "name": "python",
   "nbconvert_exporter": "python",
   "pygments_lexer": "ipython3",
   "version": "3.9.12"
  }
 },
 "nbformat": 4,
 "nbformat_minor": 5
}
