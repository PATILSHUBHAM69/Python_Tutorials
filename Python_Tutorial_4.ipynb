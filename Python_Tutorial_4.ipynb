{
 "cells": [
  {
   "cell_type": "markdown",
   "id": "266a1a7f",
   "metadata": {},
   "source": [
    "#  Write a python program to add all the odd numbers from 0 to 20"
   ]
  },
  {
   "cell_type": "code",
   "execution_count": 1,
   "id": "e79397ad",
   "metadata": {},
   "outputs": [
    {
     "name": "stdout",
     "output_type": "stream",
     "text": [
      "Odd numbers from 1 to 20 is  : [1, 3, 5, 7, 9, 11, 13, 15, 17, 19]\n",
      "Sum of odd numbers from 1 to 20 is :  100\n"
     ]
    }
   ],
   "source": [
    "odd_num = []\n",
    "for x in range(1,20,2):\n",
    "    odd_num.append(x)\n",
    "print(\"Odd numbers from 1 to 20 is  :\", odd_num)\n",
    "print(\"Sum of odd numbers from 1 to 20 is : \", sum(odd_num))\n",
    "    "
   ]
  },
  {
   "cell_type": "markdown",
   "id": "ffa20cba",
   "metadata": {},
   "source": [
    "# Write a python program to find the sum of all integers greater than 100 and less than 200."
   ]
  },
  {
   "cell_type": "code",
   "execution_count": 2,
   "id": "b3a211b4",
   "metadata": {},
   "outputs": [
    {
     "name": "stdout",
     "output_type": "stream",
     "text": [
      "integres numbers greater than 100 and less than 200 is  : [101, 102, 103, 104, 105, 106, 107, 108, 109, 110, 111, 112, 113, 114, 115, 116, 117, 118, 119, 120, 121, 122, 123, 124, 125, 126, 127, 128, 129, 130, 131, 132, 133, 134, 135, 136, 137, 138, 139, 140, 141, 142, 143, 144, 145, 146, 147, 148, 149, 150, 151, 152, 153, 154, 155, 156, 157, 158, 159, 160, 161, 162, 163, 164, 165, 166, 167, 168, 169, 170, 171, 172, 173, 174, 175, 176, 177, 178, 179, 180, 181, 182, 183, 184, 185, 186, 187, 188, 189, 190, 191, 192, 193, 194, 195, 196, 197, 198, 199]\n",
      "Sum of integres numbers greater than 100 and less than 200 is :  14850\n"
     ]
    }
   ],
   "source": [
    "int_num = []\n",
    "for x in range(101,200,1):\n",
    "    int_num.append(x)\n",
    "print(\"integres numbers greater than 100 and less than 200 is  :\", int_num)\n",
    "print(\"Sum of integres numbers greater than 100 and less than 200 is : \", sum(int_num))"
   ]
  },
  {
   "cell_type": "markdown",
   "id": "cac29e2d",
   "metadata": {},
   "source": [
    "#  Write a program to display the sum of square of the first ten even natural numbers"
   ]
  },
  {
   "cell_type": "code",
   "execution_count": 3,
   "id": "f5bd7a72",
   "metadata": {},
   "outputs": [
    {
     "name": "stdout",
     "output_type": "stream",
     "text": [
      "even natural numbers from 1 to 20 is  : [2, 4, 6, 8, 10, 12, 14, 16, 18]\n",
      "Sum of even natural numbers from 1 to 20 is :  90\n"
     ]
    }
   ],
   "source": [
    "even_natural_num = []\n",
    "for x in range(2,20,2):\n",
    "    even_natural_num.append(x)\n",
    "print(\"even natural numbers from 1 to 20 is  :\", even_natural_num)\n",
    "print(\"Sum of even natural numbers from 1 to 20 is : \", sum(even_natural_num))"
   ]
  },
  {
   "cell_type": "markdown",
   "id": "48743793",
   "metadata": {},
   "source": [
    "# Write a python program to display ascii characters from 65 to 90"
   ]
  },
  {
   "cell_type": "code",
   "execution_count": 4,
   "id": "57d88580",
   "metadata": {},
   "outputs": [
    {
     "name": "stdout",
     "output_type": "stream",
     "text": [
      " Ascii character of  65  is :  A\n",
      " Ascii character of  66  is :  B\n",
      " Ascii character of  67  is :  C\n",
      " Ascii character of  68  is :  D\n",
      " Ascii character of  69  is :  E\n",
      " Ascii character of  70  is :  F\n",
      " Ascii character of  71  is :  G\n",
      " Ascii character of  72  is :  H\n",
      " Ascii character of  73  is :  I\n",
      " Ascii character of  74  is :  J\n",
      " Ascii character of  75  is :  K\n",
      " Ascii character of  76  is :  L\n",
      " Ascii character of  77  is :  M\n",
      " Ascii character of  78  is :  N\n",
      " Ascii character of  79  is :  O\n",
      " Ascii character of  80  is :  P\n",
      " Ascii character of  81  is :  Q\n",
      " Ascii character of  82  is :  R\n",
      " Ascii character of  83  is :  S\n",
      " Ascii character of  84  is :  T\n",
      " Ascii character of  85  is :  U\n",
      " Ascii character of  86  is :  V\n",
      " Ascii character of  87  is :  W\n",
      " Ascii character of  88  is :  X\n",
      " Ascii character of  89  is :  Y\n",
      " Ascii character of  90  is :  Z\n"
     ]
    }
   ],
   "source": [
    "num = range(65,91,1)\n",
    "for i in num:\n",
    "    print(\" Ascii character of \",i,\" is : \", chr(i))"
   ]
  },
  {
   "cell_type": "markdown",
   "id": "48067cf9",
   "metadata": {},
   "source": [
    "# Display ascii characters from 48 to 57."
   ]
  },
  {
   "cell_type": "code",
   "execution_count": 5,
   "id": "ca2219f3",
   "metadata": {},
   "outputs": [
    {
     "name": "stdout",
     "output_type": "stream",
     "text": [
      " Ascii character of  48  is :  0\n",
      " Ascii character of  49  is :  1\n",
      " Ascii character of  50  is :  2\n",
      " Ascii character of  51  is :  3\n",
      " Ascii character of  52  is :  4\n",
      " Ascii character of  53  is :  5\n",
      " Ascii character of  54  is :  6\n",
      " Ascii character of  55  is :  7\n",
      " Ascii character of  56  is :  8\n",
      " Ascii character of  57  is :  9\n"
     ]
    }
   ],
   "source": [
    "num = range(48,58,1)\n",
    "for i in num:\n",
    "    print(\" Ascii character of \",i,\" is : \", chr(i))"
   ]
  },
  {
   "cell_type": "markdown",
   "id": "76effd78",
   "metadata": {},
   "source": [
    "# Display the 97 to 122 output with the help of Ascii character."
   ]
  },
  {
   "cell_type": "code",
   "execution_count": 6,
   "id": "bb2cd509",
   "metadata": {},
   "outputs": [
    {
     "name": "stdout",
     "output_type": "stream",
     "text": [
      " Ascii character of  97  is :  a\n",
      " Ascii character of  98  is :  b\n",
      " Ascii character of  99  is :  c\n",
      " Ascii character of  100  is :  d\n",
      " Ascii character of  101  is :  e\n",
      " Ascii character of  102  is :  f\n",
      " Ascii character of  103  is :  g\n",
      " Ascii character of  104  is :  h\n",
      " Ascii character of  105  is :  i\n",
      " Ascii character of  106  is :  j\n",
      " Ascii character of  107  is :  k\n",
      " Ascii character of  108  is :  l\n",
      " Ascii character of  109  is :  m\n",
      " Ascii character of  110  is :  n\n",
      " Ascii character of  111  is :  o\n",
      " Ascii character of  112  is :  p\n",
      " Ascii character of  113  is :  q\n",
      " Ascii character of  114  is :  r\n",
      " Ascii character of  115  is :  s\n",
      " Ascii character of  116  is :  t\n",
      " Ascii character of  117  is :  u\n",
      " Ascii character of  118  is :  v\n",
      " Ascii character of  119  is :  w\n",
      " Ascii character of  120  is :  x\n",
      " Ascii character of  121  is :  y\n",
      " Ascii character of  122  is :  z\n"
     ]
    }
   ],
   "source": [
    "num = range(97,123,1)\n",
    "for i in num:\n",
    "    print(\" Ascii character of \",i,\" is : \", chr(i))"
   ]
  },
  {
   "cell_type": "markdown",
   "id": "35ecc77f",
   "metadata": {},
   "source": [
    "# Write a python program for given a Python list you should be able to display Python list in the following order :\n",
    "    L1 = [100, 200, 300, 400, 500]\n",
    "    Expected output : [500, 400, 300, 200, 100]"
   ]
  },
  {
   "cell_type": "code",
   "execution_count": 7,
   "id": "cc0b3de7",
   "metadata": {},
   "outputs": [
    {
     "name": "stdout",
     "output_type": "stream",
     "text": [
      "Expected output :  [500, 400, 300, 200, 100]\n"
     ]
    }
   ],
   "source": [
    "Given_list = [100, 200, 300, 400, 500]\n",
    "Given_list.reverse()\n",
    "print(\"Expected output : \", Given_list)"
   ]
  },
  {
   "cell_type": "markdown",
   "id": "98046d30",
   "metadata": {},
   "source": [
    "# Write a Python program to concatenate following dictionaries to create a new one.\n",
    "    Sample Dictionary : \n",
    "    dic1={1:10, 2:20} \n",
    "    dic2={3:30, 4:40} \n",
    "    dic3={5:50,6:60}\n",
    "    Expected Result : {1: 10, 2: 20, 3: 30, 4: 40, 5: 50, 6: 60}"
   ]
  },
  {
   "cell_type": "code",
   "execution_count": 8,
   "id": "661396a3",
   "metadata": {},
   "outputs": [],
   "source": [
    "dic1={1:10, 2:20} \n",
    "dic2={3:30, 4:40} \n",
    "dic3={5:50,6:60}"
   ]
  },
  {
   "cell_type": "code",
   "execution_count": 9,
   "id": "76929375",
   "metadata": {},
   "outputs": [
    {
     "data": {
      "text/plain": [
       "{1: 10, 2: 20, 3: 30, 4: 40, 5: 50, 6: 60}"
      ]
     },
     "execution_count": 9,
     "metadata": {},
     "output_type": "execute_result"
    }
   ],
   "source": [
    "expected_Result = {**dic1, **dic2, **dic3}\n",
    "expected_Result"
   ]
  },
  {
   "cell_type": "markdown",
   "id": "21f6af37",
   "metadata": {},
   "source": [
    "# Write a Python program to add key to a dictionary.\n",
    "    Sample Dictionary : {0: 10, 1: 20}\n",
    "    Expected Result : {0: 10, 1: 20, 2: 30}"
   ]
  },
  {
   "cell_type": "code",
   "execution_count": 10,
   "id": "5531d342",
   "metadata": {},
   "outputs": [
    {
     "name": "stdout",
     "output_type": "stream",
     "text": [
      "Expected_Result : {0: 10, 1: 20, 2: 30}\n"
     ]
    }
   ],
   "source": [
    "Sample_Dictionary = {0: 10, 1: 20}\n",
    "Sample_Dictionary[2] = 30\n",
    "print(\"Expected_Result :\", Sample_Dictionary)"
   ]
  },
  {
   "cell_type": "markdown",
   "id": "968677a8",
   "metadata": {},
   "source": [
    "# Write a Python program to print out a set containing all the colors from a list which are not present in another list\n",
    "    Test Data : \n",
    "    color_list_1 = set([\"White\", \"Black\", \"Red\"]) \n",
    "    color_list_2 = set([\"Red\", \"Green\"])"
   ]
  },
  {
   "cell_type": "code",
   "execution_count": 11,
   "id": "485f8465",
   "metadata": {},
   "outputs": [],
   "source": [
    "colour_list_1 = set([\"White\", \"Black\", \"Red\"]) \n",
    "colour_list_2 = set([\"Red\", \"Green\"])"
   ]
  },
  {
   "cell_type": "code",
   "execution_count": 12,
   "id": "e1fe2688",
   "metadata": {},
   "outputs": [
    {
     "name": "stdout",
     "output_type": "stream",
     "text": [
      "Expected Output : {'White', 'Black'}\n"
     ]
    }
   ],
   "source": [
    "print(\"Expected Output :\",colour_list_1 - colour_list_2)"
   ]
  },
  {
   "cell_type": "markdown",
   "id": "c3589f42",
   "metadata": {},
   "source": [
    "# Given a Python list. Write a python program to turn every item of a list into its square \n",
    "    List1 = [1, 2, 3, 4, 5, 6, 7]\n",
    "    Expected output:[1, 4, 9, 16, 25, 36, 49]"
   ]
  },
  {
   "cell_type": "code",
   "execution_count": 13,
   "id": "74a3a959",
   "metadata": {},
   "outputs": [
    {
     "name": "stdout",
     "output_type": "stream",
     "text": [
      "Expected output : [1, 4, 9, 16, 25, 36, 49]\n"
     ]
    }
   ],
   "source": [
    "List1 = [1, 2, 3, 4, 5, 6, 7]\n",
    "output = []\n",
    "for i in List1:\n",
    "    output.append(i**2)\n",
    "print(\"Expected output :\", output)\n",
    "    "
   ]
  },
  {
   "cell_type": "markdown",
   "id": "345c706e",
   "metadata": {},
   "source": [
    "# Program to count the number of each vowel in a string."
   ]
  },
  {
   "cell_type": "code",
   "execution_count": 14,
   "id": "069ef9ab",
   "metadata": {},
   "outputs": [
    {
     "name": "stdout",
     "output_type": "stream",
     "text": [
      "Enter string : python is amazing language\n",
      "count of vowel a  in enter string is : 4\n",
      "count of vowel e  in enter string is : 1\n",
      "count of vowel i  in enter string is : 2\n",
      "count of vowel o  in enter string is : 1\n",
      "count of vowel u  in enter string is : 1\n"
     ]
    }
   ],
   "source": [
    "string = str(input(\"Enter string : \"))\n",
    "vowel = ['a','e','i','o','u']\n",
    "for i in vowel:\n",
    "    count = string.count(i)\n",
    "    print(\"count of vowel\",i,\" in enter string is :\",count)\n"
   ]
  },
  {
   "cell_type": "markdown",
   "id": "b0e5ca46",
   "metadata": {},
   "source": [
    "# Write a python program to Access the value of key ‘history’ from the following dictionary \n",
    "sampleDict = {\n",
    "\"class\":{\n",
    "\"student\":{\n",
    "\"name\":\"Mike\",\n",
    "\"marks\":{\n",
    "\"physics\":70,\n",
    "\"history\":80\n",
    "}\n",
    "}\n",
    "}\n",
    "}\n"
   ]
  },
  {
   "cell_type": "code",
   "execution_count": 15,
   "id": "4008cfdf",
   "metadata": {},
   "outputs": [
    {
     "name": "stdout",
     "output_type": "stream",
     "text": [
      "Value of key 'history' is :  80\n"
     ]
    }
   ],
   "source": [
    "sampleDict = { \"class\":{ \"student\":{ \"name\":\"Mike\", \"marks\":{ \"physics\":70, \"history\":80 } } } }\n",
    "Expected_output = print(\"Value of key 'history' is : \",sampleDict['class']['student']['marks']['history'])"
   ]
  },
  {
   "cell_type": "markdown",
   "id": "d51867bf",
   "metadata": {},
   "source": [
    "# write a Program to Remove Punctuations from a String provided by the user. [Hint: use punctuation attribute of string module to get all punctuations \n",
    "    (i.e. !\"#$%&\\'()*+,-./:;<=>?@[\\\\]^_`{|}~ ) "
   ]
  },
  {
   "cell_type": "code",
   "execution_count": 16,
   "id": "7e91c824",
   "metadata": {},
   "outputs": [
    {
     "name": "stdout",
     "output_type": "stream",
     "text": [
      " Enter the string with punctuaton : #python^ is@ %amazing? and {simple}\n"
     ]
    }
   ],
   "source": [
    "import string\n",
    "sample_string = str(input(\" Enter the string with punctuaton : \"))"
   ]
  },
  {
   "cell_type": "code",
   "execution_count": 17,
   "id": "c59f4b4f",
   "metadata": {},
   "outputs": [
    {
     "name": "stdout",
     "output_type": "stream",
     "text": [
      "Expected Output is  :  python is amazing and simple\n"
     ]
    }
   ],
   "source": [
    "Expected_output = sample_string.translate(str.maketrans('','',string.punctuation))\n",
    "print(\"Expected Output is  : \", Expected_output)"
   ]
  },
  {
   "cell_type": "markdown",
   "id": "2d0c7303",
   "metadata": {},
   "source": [
    "# Write a python program to print the Following:\n",
    "    1\n",
    "    2 1\n",
    "    3 2 1"
   ]
  },
  {
   "cell_type": "code",
   "execution_count": 18,
   "id": "a22139a9",
   "metadata": {},
   "outputs": [
    {
     "name": "stdout",
     "output_type": "stream",
     "text": [
      "1\n",
      "2   1\n",
      "3   2   1\n"
     ]
    }
   ],
   "source": [
    "for i in range(1,2):\n",
    "    for j in range(2,3):\n",
    "        for k in range(3,4):\n",
    "            print(i)\n",
    "            print(j,' ',i)\n",
    "            print(k,' ',j,' ',i)"
   ]
  },
  {
   "cell_type": "markdown",
   "id": "cdaf3351",
   "metadata": {},
   "source": [
    "# WAP to print the following asterisk pattern:\n",
    "    *\n",
    "    * *\n",
    "    * * * \n",
    "    * * * *\n",
    "    * * * * *\n",
    "    * * * * * *"
   ]
  },
  {
   "cell_type": "code",
   "execution_count": 19,
   "id": "f4dab18c",
   "metadata": {},
   "outputs": [
    {
     "name": "stdout",
     "output_type": "stream",
     "text": [
      "Expected Output :\n",
      "* \n",
      "* * \n",
      "* * * \n",
      "* * * * \n",
      "* * * * * \n",
      "* * * * * * \n"
     ]
    }
   ],
   "source": [
    "pattern = str('*')\n",
    "print ('Expected Output :')\n",
    "for i in range(1,7):\n",
    "    print('* ' * i)"
   ]
  },
  {
   "cell_type": "markdown",
   "id": "003a3171",
   "metadata": {},
   "source": [
    "# WAP to create a function traiangle to print the following asterisk triangle pattern:\n",
    "    *\n",
    "    * *\n",
    "    * * *\n",
    "    * * * *\n",
    "    * * *\n",
    "    * *\n",
    "    *"
   ]
  },
  {
   "cell_type": "code",
   "execution_count": 20,
   "id": "01ee8b83",
   "metadata": {},
   "outputs": [
    {
     "name": "stdout",
     "output_type": "stream",
     "text": [
      "Expected Output :\n",
      "* \n",
      "* * \n",
      "* * * \n",
      "* * * * \n",
      "* * * \n",
      "* * \n",
      "* \n"
     ]
    }
   ],
   "source": [
    "pattern = str('*')\n",
    "print ('Expected Output :')\n",
    "for i in range(1,5):\n",
    "    print('* ' * i)\n",
    "for i in range(3,0,-1):\n",
    "    print('* ' * i)"
   ]
  },
  {
   "cell_type": "markdown",
   "id": "699f5289",
   "metadata": {},
   "source": [
    "# Write a python program to print multiplication table from 1 to 10"
   ]
  },
  {
   "cell_type": "code",
   "execution_count": 21,
   "id": "8097f137",
   "metadata": {},
   "outputs": [
    {
     "name": "stdout",
     "output_type": "stream",
     "text": [
      "   1\t   2\t   3\t   4\t   5\t   6\t   7\t   8\t   9\t   10\t\n",
      "\n",
      "-------------------------------------------------------------------------------\n",
      "   1\t   2\t   3\t   4\t   5\t   6\t   7\t   8\t   9\t   10\t\n",
      "\n",
      "   2\t   4\t   6\t   8\t   10\t   12\t   14\t   16\t   18\t   20\t\n",
      "\n",
      "   3\t   6\t   9\t   12\t   15\t   18\t   21\t   24\t   27\t   30\t\n",
      "\n",
      "   4\t   8\t   12\t   16\t   20\t   24\t   28\t   32\t   36\t   40\t\n",
      "\n",
      "   5\t   10\t   15\t   20\t   25\t   30\t   35\t   40\t   45\t   50\t\n",
      "\n",
      "   6\t   12\t   18\t   24\t   30\t   36\t   42\t   48\t   54\t   60\t\n",
      "\n",
      "   7\t   14\t   21\t   28\t   35\t   42\t   49\t   56\t   63\t   70\t\n",
      "\n",
      "   8\t   16\t   24\t   32\t   40\t   48\t   56\t   64\t   72\t   80\t\n",
      "\n",
      "   9\t   18\t   27\t   36\t   45\t   54\t   63\t   72\t   81\t   90\t\n",
      "\n",
      "   10\t   20\t   30\t   40\t   50\t   60\t   70\t   80\t   90\t   100\t\n",
      "\n"
     ]
    }
   ],
   "source": [
    "for i in range(1,11):\n",
    "    print('  ',i,end='\\t')\n",
    "print ('')\n",
    "print ('')\n",
    "print('-' * 79)\n",
    "for j in range(1,11):\n",
    "    for k in range(1,11):\n",
    "        print('  ', j*k,end='\\t')\n",
    "    print('\\n')"
   ]
  }
 ],
 "metadata": {
  "kernelspec": {
   "display_name": "Python 3 (ipykernel)",
   "language": "python",
   "name": "python3"
  },
  "language_info": {
   "codemirror_mode": {
    "name": "ipython",
    "version": 3
   },
   "file_extension": ".py",
   "mimetype": "text/x-python",
   "name": "python",
   "nbconvert_exporter": "python",
   "pygments_lexer": "ipython3",
   "version": "3.9.12"
  }
 },
 "nbformat": 4,
 "nbformat_minor": 5
}
